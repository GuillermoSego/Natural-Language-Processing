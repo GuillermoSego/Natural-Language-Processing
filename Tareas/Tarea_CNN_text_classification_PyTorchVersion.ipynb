{
  "nbformat": 4,
  "nbformat_minor": 0,
  "metadata": {
    "colab": {
      "provenance": []
    },
    "kernelspec": {
      "name": "python3",
      "display_name": "Python 3"
    },
    "accelerator": "GPU"
  },
  "cells": [
    {
      "cell_type": "markdown",
      "metadata": {
        "id": "BnCJKimtBLql"
      },
      "source": [
        "# CNN for Sentence Classification"
      ]
    },
    {
      "cell_type": "markdown",
      "metadata": {
        "id": "pUI8qgwNCIxe"
      },
      "source": [
        "### Libraries used"
      ]
    },
    {
      "cell_type": "code",
      "metadata": {
        "id": "fdwJOcQzBMQE"
      },
      "source": [
        "# Tools\n",
        "import os\n",
        "import time\n",
        "import random\n",
        "import shutil\n",
        "from argparse import Namespace\n",
        "import matplotlib.pyplot as plt\n",
        "from typing import Callable, Tuple\n",
        "\n",
        "# Preprocessing\n",
        "from nltk.tokenize import TweetTokenizer\n",
        "from nltk import FreqDist\n",
        "import pandas as pd\n",
        "import numpy as np\n",
        "\n",
        "# PyTorch\n",
        "from torch.utils.data import DataLoader, Dataset\n",
        "import torch\n",
        "import torch.nn as nn\n",
        "import torch.nn.functional as F\n",
        "from torch.nn.utils.rnn import pad_sequence\n",
        "\n",
        "# scikit-learn\n",
        "from sklearn.model_selection import train_test_split\n",
        "from sklearn.metrics import accuracy_score\n",
        "\n",
        "# word embeddings\n",
        "from gensim.models import Word2Vec\n",
        "from gensim.models.keyedvectors import Word2VecKeyedVectors"
      ],
      "execution_count": null,
      "outputs": []
    },
    {
      "cell_type": "markdown",
      "metadata": {
        "id": "1iebWbwmCZ4s"
      },
      "source": [
        "Set seeds for reproducibility"
      ]
    },
    {
      "cell_type": "code",
      "metadata": {
        "id": "va6BLBywCaIF"
      },
      "source": [
        "args = Namespace()\n",
        "\n",
        "args.seed = 1111\n",
        "random.seed(args.seed) # python seed\n",
        "np.random.seed(args.seed) # numpy seed\n",
        "torch.manual_seed(args.seed) # torch seed\n",
        "torch.backends.cudnn.benchmark = False # causes cuDNN to deterministically select algorithms for Neural Network operations\n",
        "torch.backends.cudnn.deterministic = True # Use deterministic algorithms instead of non-deterministic where available"
      ],
      "execution_count": null,
      "outputs": []
    },
    {
      "cell_type": "markdown",
      "metadata": {
        "id": "A41-b6gsCL70"
      },
      "source": [
        "### Load Dataset"
      ]
    },
    {
      "cell_type": "code",
      "metadata": {
        "colab": {
          "base_uri": "https://localhost:8080/"
        },
        "id": "aA-w0ulhF1-Q",
        "outputId": "847be17f-a590-488e-af25-9ce85dd930c6"
      },
      "source": [
        "!gdown https://drive.google.com/uc?id=1CL2rtDbi7HU1OY8JNrgIlq5TYVhgvAzZ\n",
        "!unzip -qq mex-a3t.zip"
      ],
      "execution_count": null,
      "outputs": [
        {
          "output_type": "stream",
          "text": [
            "Downloading...\n",
            "From: https://drive.google.com/uc?id=1CL2rtDbi7HU1OY8JNrgIlq5TYVhgvAzZ\n",
            "To: /content/mex-a3t.zip\n",
            "\r  0% 0.00/234k [00:00<?, ?B/s]\r100% 234k/234k [00:00<00:00, 7.43MB/s]\n",
            "replace mex_val.txt? [y]es, [n]o, [A]ll, [N]one, [r]ename: y\n",
            "replace mex_val_labels.txt? [y]es, [n]o, [A]ll, [N]one, [r]ename: y\n",
            "replace mex_train.txt? [y]es, [n]o, [A]ll, [N]one, [r]ename: y\n",
            "replace mex_train_labels.txt? [y]es, [n]o, [A]ll, [N]one, [r]ename: y\n"
          ],
          "name": "stdout"
        }
      ]
    },
    {
      "cell_type": "markdown",
      "metadata": {
        "id": "P5KCFtNiGIU6"
      },
      "source": [
        "Set split hyperparameter and split data"
      ]
    },
    {
      "cell_type": "code",
      "metadata": {
        "id": "YRn0ZqeQGlFZ"
      },
      "source": [
        "args.val_size = 0.1"
      ],
      "execution_count": null,
      "outputs": []
    },
    {
      "cell_type": "code",
      "metadata": {
        "id": "62yMSBChGIp_"
      },
      "source": [
        "X_train = pd.read_csv('mex_train.txt', sep='\\r\\n', engine='python', header=None).loc[:,0]\n",
        "y_train = pd.read_csv('mex_train_labels.txt', header=None).loc[:,0]\n",
        "#.values.tolist()\n",
        "\n",
        "X_train, X_val, y_train, y_val = train_test_split(X_train, y_train, test_size=args.val_size, random_state=args.seed)\n",
        "\n",
        "X_test = pd.read_csv('mex_val.txt', sep='\\r\\n', engine='python', header=None).loc[:,0]\n",
        "y_test = pd.read_csv('mex_val_labels.txt', header=None).loc[:,0]"
      ],
      "execution_count": null,
      "outputs": []
    },
    {
      "cell_type": "markdown",
      "metadata": {
        "id": "lLkXh_k7sagl"
      },
      "source": [
        "Functions to build vocabulary"
      ]
    },
    {
      "cell_type": "code",
      "metadata": {
        "id": "S2-9NZ1BsdVZ"
      },
      "source": [
        "def get_vocab(corpus: pd.DataFrame,\n",
        "              tokenizer: Callable[[str], list],\n",
        "              max_features: int) -> set:\n",
        "    freq_dist = FreqDist([w.lower() for sentence in corpus\\\n",
        "                                    for w in tokenizer(sentence)])\n",
        "\n",
        "    sorted_words = sortFreqDict(freq_dist)[:min(max_features-1, len(freq_dist))]\n",
        "    w2idx = {word: i+1 for i, word in enumerate(sorted_words)}\n",
        "\n",
        "    # Append <pad> token with 0 index\n",
        "    sorted_words.append('<pad>')\n",
        "    w2idx['<pad>'] = 0\n",
        "\n",
        "    return set(sorted_words), w2idx\n",
        "\n",
        "def sortFreqDict(freq_dist: FreqDist) -> list:\n",
        "    freq_dict = dict(freq_dist)\n",
        "    return sorted(freq_dict, key=freq_dict.get, reverse=True)"
      ],
      "execution_count": null,
      "outputs": []
    },
    {
      "cell_type": "code",
      "metadata": {
        "id": "2mPmCxoqskuO"
      },
      "source": [
        "# Set vocab size\n",
        "args.vocab_size = 5000\n",
        "\n",
        "tk = TweetTokenizer()\n",
        "vocab, w2idx = get_vocab(X_train, tk.tokenize, args.vocab_size)"
      ],
      "execution_count": null,
      "outputs": []
    },
    {
      "cell_type": "markdown",
      "metadata": {
        "id": "K2sfrROCBJB0"
      },
      "source": [
        "### Define Dataset, collate_fn and Dataloader"
      ]
    },
    {
      "cell_type": "markdown",
      "metadata": {
        "id": "eDXEMAEp9qL2"
      },
      "source": [
        "Define Map-style Dataset (one that implements the `__getitem__()` and `__len__()` protocols) class for processing each observation in the correct format for the model"
      ]
    },
    {
      "cell_type": "code",
      "metadata": {
        "id": "T9xyWeuOqyON"
      },
      "source": [
        "class TweeterDataset(Dataset):\n",
        "    def __init__(self,\n",
        "                 X: pd.DataFrame,\n",
        "                 y: pd.DataFrame,\n",
        "                 vocab: set,\n",
        "                 w2idx: dict,\n",
        "                 tokenizer: Callable[[str], list],\n",
        "                 max_seq_len: int):\n",
        "        self.X = X\n",
        "        self.y = y\n",
        "        self.vocab = vocab\n",
        "        self.w2idx = w2idx\n",
        "        self.tokenizer = tokenizer\n",
        "        self.max_seq_len = max_seq_len\n",
        "\n",
        "    def __len__(self):\n",
        "        return self.X.shape[0]\n",
        "\n",
        "    def __getitem__(self, idx):\n",
        "        # Get sequence of token ids\n",
        "        sentence = self.X.iloc[idx]\n",
        "        tokens = [self.w2idx[w] for w in self.tokenizer(sentence) if w in self.vocab]\n",
        "\n",
        "        # Truncate sequence up to max_seq_len\n",
        "        truncate_len = min(len(tokens), self.max_seq_len)\n",
        "        tokens = tokens[:truncate_len]\n",
        "\n",
        "        # Get true label\n",
        "        label = self.y.iloc[idx]\n",
        "\n",
        "        return torch.LongTensor(tokens), torch.LongTensor([label])"
      ],
      "execution_count": null,
      "outputs": []
    },
    {
      "cell_type": "markdown",
      "metadata": {
        "id": "f0pPWd3C-Abz"
      },
      "source": [
        "Define function to collate samples fetched by the sampler from the Dataset. The Dataloader will return the output of this `collate_fn` that we define."
      ]
    },
    {
      "cell_type": "code",
      "metadata": {
        "id": "A48GxyAd-Anb"
      },
      "source": [
        "def collate_fn(batch):\n",
        "    # Get X\n",
        "    batch_tokens = [row[0] for row in batch]\n",
        "    # Get y\n",
        "    batch_labels = torch.LongTensor([row[1] for row in batch]).to(torch.float)\n",
        "\n",
        "    # Pad with 0 (to the rigth) shorter sequences than max_seq_len\n",
        "    padded_batch_tokens = pad_sequence(batch_tokens, batch_first=True)\n",
        "\n",
        "    return padded_batch_tokens, batch_labels.unsqueeze(1)"
      ],
      "execution_count": null,
      "outputs": []
    },
    {
      "cell_type": "markdown",
      "metadata": {
        "id": "M_tu7B3o95Ta"
      },
      "source": [
        "Build Dataloaders to process batches of observations from the Datasets"
      ]
    },
    {
      "cell_type": "code",
      "metadata": {
        "id": "plFS8370MYBH"
      },
      "source": [
        "# Set batch size in args\n",
        "args.batch_size = 64\n",
        "\n",
        "# Num workers\n",
        "args.num_workers = 0\n",
        "\n",
        "# Maximum sequence length\n",
        "args.max_seq_len = 20"
      ],
      "execution_count": null,
      "outputs": []
    },
    {
      "cell_type": "code",
      "metadata": {
        "id": "KNRGp-DX-Bm2"
      },
      "source": [
        "# Training\n",
        "train_dataset = TweeterDataset(X_train, y_train, vocab, w2idx, tk.tokenize, args.max_seq_len)\n",
        "train_loader = DataLoader(train_dataset,\n",
        "                          batch_size=args.batch_size,\n",
        "                          num_workers=args.num_workers,\n",
        "                          collate_fn=collate_fn,\n",
        "                          shuffle=True)\n",
        "\n",
        "# Validation\n",
        "val_dataset = TweeterDataset(X_val, y_val, vocab, w2idx, tk.tokenize, args.max_seq_len)\n",
        "val_loader = DataLoader(val_dataset,\n",
        "                          batch_size=args.batch_size,\n",
        "                          num_workers=args.num_workers,\n",
        "                          collate_fn=collate_fn,\n",
        "                          shuffle=False)\n",
        "\n",
        "# Test\n",
        "test_dataset = TweeterDataset(X_test, y_test, vocab, w2idx, tk.tokenize, args.max_seq_len)\n",
        "test_loader = DataLoader(test_dataset,\n",
        "                          batch_size=args.batch_size,\n",
        "                          num_workers=args.num_workers,\n",
        "                          collate_fn=collate_fn,\n",
        "                          shuffle=False)"
      ],
      "execution_count": null,
      "outputs": []
    },
    {
      "cell_type": "markdown",
      "metadata": {
        "id": "hwIx8Xt3Gbxz"
      },
      "source": [
        "When iterating a ```Dataloader```, the whole order of execution to get a batch is roughly the following:\n",
        "\n",
        "1. A `Sampler` object in `batch_sampler` variable, retrieves a batch of indices.\n",
        "\n",
        "2. For each retrieved index, get the data from the defined `Dataset` object, process all the batch samples with the defined `collate_fn` and return the result:\n",
        "\n",
        "    ```\n",
        "    for indices in batch_sampler:\n",
        "        yield collate_fn([dataset[i] for i in indices])\n",
        "    ```\n",
        "\n",
        "\n"
      ]
    },
    {
      "cell_type": "markdown",
      "metadata": {
        "id": "Z7iJRqoQaqG-"
      },
      "source": [
        "Testing train Dataloader"
      ]
    },
    {
      "cell_type": "code",
      "metadata": {
        "colab": {
          "base_uri": "https://localhost:8080/"
        },
        "id": "yU-oeLNCMipL",
        "outputId": "4b587ec5-7791-4bab-e0b7-9ce299775441"
      },
      "source": [
        "batch_ = next(iter(train_loader))\n",
        "print(f'X_batch shape: {batch_[0].shape}')\n",
        "print(f'y_batch shape: {batch_[1].shape}')"
      ],
      "execution_count": null,
      "outputs": [
        {
          "output_type": "stream",
          "text": [
            "X_batch shape: torch.Size([64, 20])\n",
            "y_batch shape: torch.Size([64, 1])\n"
          ],
          "name": "stdout"
        }
      ]
    },
    {
      "cell_type": "markdown",
      "metadata": {
        "id": "S0ONCMxIbPl8"
      },
      "source": [
        "### Define CNN text classifier"
      ]
    },
    {
      "cell_type": "code",
      "metadata": {
        "id": "CkA7GoK3bTuv"
      },
      "source": [
        "class CNNTextCls(nn.Module):\n",
        "    def __init__(self, args, embeddings=None, freeze=False):\n",
        "        super(CNNTextCls, self).__init__()\n",
        "\n",
        "        if embeddings is not None:\n",
        "            self.emb = nn.Embedding.from_pretrained(torch.FloatTensor(embeddings))\n",
        "            if freeze:\n",
        "                self.emb.weight.requires_grad=False\n",
        "        else:\n",
        "            self.emb = nn.Embedding(args.vocab_size, args.d)\n",
        "\n",
        "        conv_block_list = []\n",
        "\n",
        "        for k in args.filter_sizes:\n",
        "            conv_block = nn.Sequential(\n",
        "                nn.Conv1d(in_channels=args.d, out_channels=args.num_filters, kernel_size=k, stride=1),\n",
        "                nn.ReLU(),\n",
        "                nn.MaxPool1d(kernel_size=(args.max_seq_len-k+1))\n",
        "            )\n",
        "            conv_block_list.append(conv_block)\n",
        "\n",
        "        self.conv_block_list = nn.ModuleList(conv_block_list)\n",
        "        self.dropout = nn.Dropout(args.dropout)\n",
        "        self.fc = nn.Linear(args.num_filters*len(args.filter_sizes), 1)\n",
        "\n",
        "    def forward(self, x):\n",
        "        '''\n",
        "        B: batch size\n",
        "        L: sequence length\n",
        "        D: embedding dim\n",
        "        C: Convolution output channels (number of filters)\n",
        "        k: Convolution kernel size\n",
        "        N: Number of convolution blocks\n",
        "\n",
        "        x shape: (B, L)\n",
        "        '''\n",
        "        x = self.emb(x) # (B, L, D)\n",
        "        x = x.transpose(1,2) # (B, D, L) conv1d expects L in last dimension\n",
        "\n",
        "        x_filter = []\n",
        "        for conv_block in self.conv_block_list: # Conv1d -> ReLU -> MaxPool1d\n",
        "            x_filter.append(conv_block(x).squeeze(2)) # (B, C, L-k+1) -> ReLU -> (B, C, 1) -> (B, C) after squeeze\n",
        "\n",
        "        x_cat = torch.cat(x_filter, dim=1) # (B, C*N)\n",
        "        x = self.dropout(x_cat)\n",
        "        return self.fc(x)"
      ],
      "execution_count": null,
      "outputs": []
    },
    {
      "cell_type": "markdown",
      "metadata": {
        "id": "EN9haSqSC-AA"
      },
      "source": [
        "### Helper functions for model evaluation"
      ]
    },
    {
      "cell_type": "code",
      "metadata": {
        "id": "B_ct1vF3C-jI"
      },
      "source": [
        "def model_eval(data, model, gpu=False):\n",
        "    with torch.no_grad():\n",
        "        preds, tgts = [], []\n",
        "        for input, labels in data:\n",
        "            if gpu:\n",
        "                input = input.cuda()\n",
        "\n",
        "            outputs = model(input)\n",
        "\n",
        "            # Get prediction for Accuracy\n",
        "            y_pred = y_pred = torch.round(torch.sigmoid(outputs.detach())).cpu().numpy()\n",
        "\n",
        "            tgt = labels.numpy()\n",
        "            tgts.append(tgt)\n",
        "            preds.append(y_pred)\n",
        "\n",
        "    tgts = [e for l in tgts for e in l]\n",
        "    preds = [e for l in preds for e in l]\n",
        "\n",
        "    metrics = {\n",
        "        \"accuracy\": accuracy_score(tgts, preds),\n",
        "    }\n",
        "\n",
        "    return metrics"
      ],
      "execution_count": null,
      "outputs": []
    },
    {
      "cell_type": "markdown",
      "metadata": {
        "id": "2eaCfN-wDIXq"
      },
      "source": [
        "### Helper function to save model"
      ]
    },
    {
      "cell_type": "code",
      "metadata": {
        "id": "f2OPDptPDLx6"
      },
      "source": [
        "def save_checkpoint(state, is_best, checkpoint_path, filename=\"checkpoint.pt\"):\n",
        "    filename = os.path.join(checkpoint_path, filename)\n",
        "    torch.save(state, filename)\n",
        "    if is_best:\n",
        "        shutil.copyfile(filename, os.path.join(checkpoint_path, \"model_best.pt\"))"
      ],
      "execution_count": null,
      "outputs": []
    },
    {
      "cell_type": "markdown",
      "metadata": {
        "id": "wvmbsYji1VgZ"
      },
      "source": [
        "### Training function"
      ]
    },
    {
      "cell_type": "code",
      "metadata": {
        "id": "X1P9hbEK1XMv"
      },
      "source": [
        "def train(args, model, train_loader, val_loader, optimizer, criterion, scheduler):\n",
        "    best_metric = 0\n",
        "    metric_history = []\n",
        "    train_metric_history = []\n",
        "\n",
        "    for epoch in range(args.num_epochs):\n",
        "        epoch_start_time = time.time()\n",
        "        loss_epoch = []\n",
        "        training_metrics = []\n",
        "        model.train()\n",
        "\n",
        "        for input, labels in train_loader:\n",
        "            # If GPU available\n",
        "            if args.use_gpu:\n",
        "                input = input.cuda()\n",
        "                labels = labels.cuda()\n",
        "\n",
        "            # Forward pass\n",
        "            outputs = model(input)\n",
        "\n",
        "            loss = criterion(outputs, labels)\n",
        "            loss_epoch.append(loss.item())\n",
        "\n",
        "            # Get training metric\n",
        "            preds = torch.round(torch.sigmoid(outputs.detach())).cpu().numpy()\n",
        "            training_metrics.append(accuracy_score(labels.cpu().numpy(), preds))\n",
        "\n",
        "            # Backward and optimize\n",
        "            optimizer.zero_grad()\n",
        "            loss.backward()\n",
        "            optimizer.step()\n",
        "\n",
        "        # Get metric in training dataset\n",
        "        mean_epoch_accuracy = np.mean(training_metrics)\n",
        "        train_metric_history.append(mean_epoch_accuracy)\n",
        "\n",
        "        # Get metric in validation dataset\n",
        "        model.eval()\n",
        "        tuning_metric = model_eval(val_loader, model, gpu=args.use_gpu)\n",
        "        metric_history.append(tuning_metric['accuracy'])\n",
        "\n",
        "        # Update scheduler\n",
        "        scheduler.step(tuning_metric['accuracy'])\n",
        "\n",
        "        # Check for metric improvement\n",
        "        is_improvement = tuning_metric['accuracy'] > best_metric\n",
        "        if is_improvement:\n",
        "            best_metric = tuning_metric['accuracy']\n",
        "            n_no_improve = 0\n",
        "        else:\n",
        "            n_no_improve += 1\n",
        "\n",
        "        # Save best model if metric improved\n",
        "        save_checkpoint(\n",
        "            {\n",
        "                \"epoch\": epoch + 1,\n",
        "                \"state_dict\": model.state_dict(),\n",
        "                \"optimizer\": optimizer.state_dict(),\n",
        "                \"scheduler\": scheduler.state_dict(),\n",
        "                \"best_metric\": best_metric,\n",
        "            },\n",
        "            is_improvement,\n",
        "            args.savedir,\n",
        "        )\n",
        "\n",
        "        # Early stopping\n",
        "        if n_no_improve >= args.patience:\n",
        "            print(\"No improvement. Breaking out of loop.\")\n",
        "            break\n",
        "\n",
        "        print ('Epoch [{}/{}], Loss: {:.4f} - Train Accuracy: {:.4f} - Val Accuracy: {:.4f} - Epoch time: {:.2f} s'\n",
        "            .format(epoch+1, args.num_epochs, np.mean(loss_epoch), mean_epoch_accuracy, tuning_metric['accuracy'], (time.time()- epoch_start_time)))\n",
        "\n",
        "    return train_metric_history, metric_history"
      ],
      "execution_count": null,
      "outputs": []
    },
    {
      "cell_type": "markdown",
      "metadata": {
        "id": "tHZNC9ChDSmq"
      },
      "source": [
        "### Train CNN classifier"
      ]
    },
    {
      "cell_type": "code",
      "metadata": {
        "id": "KS8Vy7GXDYPb"
      },
      "source": [
        "# Model hyperparameters\n",
        "args.d = 100 # Dimension of word embeddings\n",
        "args.filter_sizes = [3, 4, 5]\n",
        "args.num_filters = 100\n",
        "args.dropout = 0.1\n",
        "\n",
        "# Training hyperparameters\n",
        "args.lr = 1e-2\n",
        "args.num_epochs = 100\n",
        "args.patience = 10\n",
        "\n",
        "# Scheduler hyperparameters\n",
        "args.lr_patience = 5\n",
        "args.lr_factor = 0.5\n",
        "\n",
        "# Saving directory\n",
        "args.savedir = 'model'\n",
        "os.makedirs(args.savedir, exist_ok=True)\n",
        "\n",
        "# Create model\n",
        "model = CNNTextCls(args)\n",
        "\n",
        "# Send to GPU\n",
        "args.use_gpu = torch.cuda.is_available()\n",
        "if args.use_gpu:\n",
        "    model.cuda()\n",
        "\n",
        "# Loss, Optimizer and Scheduler\n",
        "criterion = nn.BCEWithLogitsLoss()\n",
        "optimizer = torch.optim.SGD(model.parameters(), lr=args.lr)\n",
        "scheduler = torch.optim.lr_scheduler.ReduceLROnPlateau(\n",
        "                optimizer, \"max\",\n",
        "                patience=args.lr_patience,\n",
        "                verbose=True,\n",
        "                factor=args.lr_factor\n",
        "            )"
      ],
      "execution_count": null,
      "outputs": []
    },
    {
      "cell_type": "code",
      "metadata": {
        "colab": {
          "base_uri": "https://localhost:8080/"
        },
        "id": "TKZAD3nju5Cv",
        "outputId": "90503439-d5a7-4b32-83fa-39ab6cb16f9f"
      },
      "source": [
        "start_time = time.time()\n",
        "train_metric_history, val_metric_history = train(args, model, train_loader, val_loader, optimizer, criterion, scheduler)\n",
        "print(\"Total training time: {:.4f} seconds\".format((time.time() - start_time)))"
      ],
      "execution_count": null,
      "outputs": [
        {
          "output_type": "stream",
          "text": [
            "Epoch [1/100], Loss: 0.6604 - Train Accuracy: 0.6317 - Val Accuracy: 0.6414 - Epoch time: 0.82 s\n",
            "Epoch [2/100], Loss: 0.6429 - Train Accuracy: 0.6469 - Val Accuracy: 0.6703 - Epoch time: 0.83 s\n",
            "Epoch [3/100], Loss: 0.6281 - Train Accuracy: 0.6520 - Val Accuracy: 0.6847 - Epoch time: 0.80 s\n",
            "Epoch [4/100], Loss: 0.6087 - Train Accuracy: 0.6745 - Val Accuracy: 0.6865 - Epoch time: 0.79 s\n",
            "Epoch [5/100], Loss: 0.5979 - Train Accuracy: 0.6824 - Val Accuracy: 0.6829 - Epoch time: 0.81 s\n",
            "Epoch [6/100], Loss: 0.5809 - Train Accuracy: 0.7017 - Val Accuracy: 0.6991 - Epoch time: 0.77 s\n",
            "Epoch [7/100], Loss: 0.5630 - Train Accuracy: 0.7194 - Val Accuracy: 0.7063 - Epoch time: 0.80 s\n",
            "Epoch [8/100], Loss: 0.5524 - Train Accuracy: 0.7254 - Val Accuracy: 0.7117 - Epoch time: 0.83 s\n",
            "Epoch [9/100], Loss: 0.5351 - Train Accuracy: 0.7403 - Val Accuracy: 0.7225 - Epoch time: 0.78 s\n",
            "Epoch [10/100], Loss: 0.5186 - Train Accuracy: 0.7584 - Val Accuracy: 0.7225 - Epoch time: 0.78 s\n",
            "Epoch [11/100], Loss: 0.5056 - Train Accuracy: 0.7683 - Val Accuracy: 0.7207 - Epoch time: 0.79 s\n",
            "Epoch [12/100], Loss: 0.4898 - Train Accuracy: 0.7679 - Val Accuracy: 0.7279 - Epoch time: 0.80 s\n",
            "Epoch [13/100], Loss: 0.4719 - Train Accuracy: 0.7865 - Val Accuracy: 0.7315 - Epoch time: 0.79 s\n",
            "Epoch [14/100], Loss: 0.4615 - Train Accuracy: 0.7980 - Val Accuracy: 0.7243 - Epoch time: 0.78 s\n",
            "Epoch [15/100], Loss: 0.4451 - Train Accuracy: 0.8078 - Val Accuracy: 0.7297 - Epoch time: 0.80 s\n",
            "Epoch [16/100], Loss: 0.4235 - Train Accuracy: 0.8220 - Val Accuracy: 0.7387 - Epoch time: 0.79 s\n",
            "Epoch [17/100], Loss: 0.4137 - Train Accuracy: 0.8310 - Val Accuracy: 0.7441 - Epoch time: 0.80 s\n",
            "Epoch [18/100], Loss: 0.3989 - Train Accuracy: 0.8384 - Val Accuracy: 0.7405 - Epoch time: 0.78 s\n",
            "Epoch [19/100], Loss: 0.3900 - Train Accuracy: 0.8466 - Val Accuracy: 0.7441 - Epoch time: 0.78 s\n",
            "Epoch [20/100], Loss: 0.3751 - Train Accuracy: 0.8462 - Val Accuracy: 0.7405 - Epoch time: 0.81 s\n",
            "Epoch [21/100], Loss: 0.3559 - Train Accuracy: 0.8581 - Val Accuracy: 0.7532 - Epoch time: 0.80 s\n",
            "Epoch [22/100], Loss: 0.3438 - Train Accuracy: 0.8752 - Val Accuracy: 0.7477 - Epoch time: 0.87 s\n",
            "Epoch [23/100], Loss: 0.3305 - Train Accuracy: 0.8762 - Val Accuracy: 0.7514 - Epoch time: 0.77 s\n",
            "Epoch [24/100], Loss: 0.3108 - Train Accuracy: 0.8904 - Val Accuracy: 0.7514 - Epoch time: 0.79 s\n",
            "Epoch [25/100], Loss: 0.3044 - Train Accuracy: 0.8916 - Val Accuracy: 0.7568 - Epoch time: 0.76 s\n",
            "Epoch [26/100], Loss: 0.2906 - Train Accuracy: 0.9020 - Val Accuracy: 0.7586 - Epoch time: 0.79 s\n",
            "Epoch [27/100], Loss: 0.2856 - Train Accuracy: 0.8986 - Val Accuracy: 0.7550 - Epoch time: 0.77 s\n",
            "Epoch [28/100], Loss: 0.2706 - Train Accuracy: 0.9122 - Val Accuracy: 0.7658 - Epoch time: 0.77 s\n",
            "Epoch [29/100], Loss: 0.2561 - Train Accuracy: 0.9208 - Val Accuracy: 0.7514 - Epoch time: 0.87 s\n",
            "Epoch [30/100], Loss: 0.2452 - Train Accuracy: 0.9240 - Val Accuracy: 0.7694 - Epoch time: 0.78 s\n",
            "Epoch [31/100], Loss: 0.2323 - Train Accuracy: 0.9294 - Val Accuracy: 0.7568 - Epoch time: 0.80 s\n",
            "Epoch [32/100], Loss: 0.2239 - Train Accuracy: 0.9325 - Val Accuracy: 0.7568 - Epoch time: 0.77 s\n",
            "Epoch [33/100], Loss: 0.2162 - Train Accuracy: 0.9381 - Val Accuracy: 0.7676 - Epoch time: 0.82 s\n",
            "Epoch [34/100], Loss: 0.2072 - Train Accuracy: 0.9394 - Val Accuracy: 0.7766 - Epoch time: 0.79 s\n",
            "Epoch [35/100], Loss: 0.1940 - Train Accuracy: 0.9489 - Val Accuracy: 0.7658 - Epoch time: 0.80 s\n",
            "Epoch [36/100], Loss: 0.1908 - Train Accuracy: 0.9497 - Val Accuracy: 0.7694 - Epoch time: 0.81 s\n",
            "Epoch [37/100], Loss: 0.1776 - Train Accuracy: 0.9563 - Val Accuracy: 0.7658 - Epoch time: 0.80 s\n",
            "Epoch [38/100], Loss: 0.1752 - Train Accuracy: 0.9571 - Val Accuracy: 0.7640 - Epoch time: 0.78 s\n",
            "Epoch [39/100], Loss: 0.1707 - Train Accuracy: 0.9603 - Val Accuracy: 0.7712 - Epoch time: 0.78 s\n",
            "Epoch    40: reducing learning rate of group 0 to 5.0000e-03.\n",
            "Epoch [40/100], Loss: 0.1606 - Train Accuracy: 0.9641 - Val Accuracy: 0.7694 - Epoch time: 0.78 s\n",
            "Epoch [41/100], Loss: 0.1506 - Train Accuracy: 0.9661 - Val Accuracy: 0.7730 - Epoch time: 0.81 s\n",
            "Epoch [42/100], Loss: 0.1472 - Train Accuracy: 0.9693 - Val Accuracy: 0.7694 - Epoch time: 0.81 s\n",
            "Epoch [43/100], Loss: 0.1451 - Train Accuracy: 0.9685 - Val Accuracy: 0.7676 - Epoch time: 0.78 s\n",
            "No improvement. Breaking out of loop.\n",
            "Total training time: 35.0732 seconds\n"
          ],
          "name": "stdout"
        }
      ]
    },
    {
      "cell_type": "code",
      "metadata": {
        "colab": {
          "base_uri": "https://localhost:8080/"
        },
        "id": "5vEILMHv3ooO",
        "outputId": "8cb22b61-0741-4fed-aff9-f3580f2e4391"
      },
      "source": [
        "model.load_state_dict(torch.load('model/model_best.pt')['state_dict'])\n",
        "model.eval()\n",
        "test_metric = model_eval(test_loader, model, gpu=args.use_gpu)\n",
        "print(\"\\nTest Accuracy: {:.4f}\".format(test_metric[\"accuracy\"]))"
      ],
      "execution_count": null,
      "outputs": [
        {
          "output_type": "stream",
          "text": [
            "\n",
            "Test Accuracy: 0.7451\n"
          ],
          "name": "stdout"
        }
      ]
    },
    {
      "cell_type": "code",
      "metadata": {
        "colab": {
          "base_uri": "https://localhost:8080/",
          "height": 295
        },
        "id": "iKcKHosEx5ZC",
        "outputId": "47c8f6a5-38d8-4067-c1df-6614bbe71827"
      },
      "source": [
        "plt.plot(train_metric_history, label='train')\n",
        "plt.plot(val_metric_history, label='val')\n",
        "plt.title('CNN Classifier')\n",
        "plt.ylabel('Accuracy')\n",
        "plt.xlabel('# epoch')\n",
        "plt.legend(loc='best')\n",
        "plt.show()"
      ],
      "execution_count": null,
      "outputs": [
        {
          "output_type": "display_data",
          "data": {
            "image/png": "[encoded data removed]",
            "text/plain": [
              "<Figure size 432x288 with 1 Axes>"
            ]
          },
          "metadata": {
            "tags": [],
            "needs_background": "light"
          }
        }
      ]
    }
  ]
}