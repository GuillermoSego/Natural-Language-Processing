{
 "cells": [
  {
   "cell_type": "markdown",
   "metadata": {},
   "source": [
    "# Tarea 6. Embeddings and CNNs\n",
    "\n",
    "Guillermo Segura Gomez\n",
    "\n",
    "## Word2Vec\n",
    "\n",
    "**Estudie los papers de word2vec (a y b). Consteste las siguientes preguntas en sus propias palabras.**\n",
    "\n",
    "**1. ¿Describa en sus propias palabras la estrategia de selección de palabras dentro de la ventana de contexto en w2v? Explique porque se hace así y cual es la intuición.**\n",
    "\n",
    "Lo primero es definir la ventana de contexto. En el articulo *Efficient Estimation of Word Representations in Vector Space* [2], Mikolov propone un modelo llamado **continuous skip-gram model** en el que trata de maximizar la clasificación de una palabra basado en otra palabra de la misma oración. Es decir, y cito textualmente \"Se usa cada palabra actual como entrada para un clasificador log-lineal con una capa de proyección continua y predice palabras dentro de un cierto rango antes y después de la palabra actual\". El rango o distancia maxima entre las palabras que se pueden seleccionar para este análisis se conoce como **ventana de contexto**, representada por la letra $C$. La estrategia que se utiliza para la selección de palabras dentro de la ventana es una estrategia aleatoria. Para cada palabra del conjunto de entrenamiento se selecciona de manera random un numero entero $R$ en el rango $[1,C]$, luego se seleccionan $R$ palabras anteriores y $R$ palabras posteriores a la palabra objetivo como el contexto actual para ese ejemplo de entrenamiento. La intuición detrás de esto es que no todas las palabras dentro de la ventana de contexto son seleccionadas con igual probabilidad, es necesario agregar este comportamiento aleatorio para evitar que el modelo se sobreajuste a ciertas ventanas de contexto y poder capturar la mayor cantidad de información sintáctica y semántica posible. De otra forma tendríamos un modelo de n-gramas simple, el cual hemos visto que presenta complicaciones para modelar el lenguaje a profundidad. \n",
    "\n",
    "**2. ¿Qué estrategia se usa para construir frases de palabras y construir un solo vector para conceptos basados en más de un token?**\n",
    "\n",
    "En el articulo *Distributed Representations of Words and Phrases and their Compositionality* [1], Mikolov habla acerca de que el modelo de skip-grams puede aprender conceptos mas profundos que una sola palabra. Y es que por lo que entiendo la idea de los modelos tipo embeddings es *linealidad* el lenguaje, es decir, poder encontrar representaciones de palabras con las cuales podamos mediante operaciones vectoriales lineales, podamos llegar a otros vectores de palabras que tengan sentido semántico; por ejemplo *vector(\"King\")* - *vector(Man)* + *vector(Woman)* = *vector(Queen)*. Es asi, que hay muchas *frases* cuyo significado no es una composición simple de significados de palabras individuales. Para que el modelo pueda aprender este tipo de frases, se tiene que realizar un preproceso para poder construir estas frases en el corpus y que cada frase tenga un token único. Me parece que la estrategia que se sigue es primero buscar los conjuntos de palabras que por si mismo aparecen de manera muy rara en contextos únicos. Por ejemplo \"New York Times\" que involucra tres palabras. Luego es necesario construir un token único de esta palabra y agregarlo al corpus. Para construir el token único se pueden agregar guiones para tener \"New_York_Times\" y con esto poder conseguir frases de palabras que se aprendan por si mismas en el modelo.\n",
    "\n",
    "**3. ¿Según el autor de w2v, cuales podrían ser las diferencias o ventajas/desventajas de CBOW y Skipgram?**\n",
    "\n",
    "En el articulo donde se proponen los modelos de embeddings [2], nos damos cuenta de que son modelos con ideas similares, aunque opuestas. El modelo de CBOW predice la palabra actual basándose en el contexto de su alrededor mientras que el modelo se skip-grams se intenta predecir las palabras de contexto a partir de la palabra actual. En general el modelo CBOW es el más rápido entrenar. Sin embargo el modelo skip-grams es más efectivo para aprender representaciones de alta calidad para palabras raras, ya que trata cada instancia de la palabra objetivo como un ejemplo de entrenamiento único. Si se desea escoger uno de los modelos se tiene que hacer en base a las necesidades y disponibilidad de hardware que se tenga, CBOW es mas eficiente, y funciona bien para conjuntos peque;os de datos, mientas que skip-gram es brutal para conjuntos grandes y para aprender palabras extra;as en el contexto.\n",
    "\n",
    "**4. ¿Cuales son las diferencias entre usar Hierachical Softmax, Negative Sampling y NCE? ¿Cuál recomienda el autor y por qué?**\n",
    "\n",
    "Para responder esta pregunta, es necesario conocer como se calculan las probabilidades de una red neuronal. Para una neurona simple, una red neuronal recibe una cantidad de inputs y los procesa mediante la multiplicación por los pesos y la suma del bias. Luego se aplica una función no lineal, y finalmente se calcula la probabilidad mapeando la salida de la función no lineal que va de $(-\\infty, \\infty)$ a un valor entre $[0,1]$, una probabilidad. Este mapeo se hace utilizando la función softmax. Sin embargo hay complicaciones a la hora de manejar grandes volúmenes de datos ya que el costo computacional aumenta. Hierarchical Softmax, Negative Sampling y Noise Contrastive Estimation son técnicas utilizadas para optimizar este problema. Estas funciones consisten en lo siguiente:\n",
    "\n",
    "* Hierarchical Softmax\n",
    "\n",
    "    Esta técnica usa un árbol binario para representar las palabras, reduciendo significativamente la complejidad computacional de calcular las probabilidades de salida desde O(W)O(W) a O(log⁡2(W))O(log2​(W)). Aunque es eficiente para grandes vocabularios, su rendimiento depende mucho de cómo esté estructurado el árbol. Esto la hace muy útil para acelerar el entrenamiento, especialmente con palabras frecuentes que reciben códigos más cortos.\n",
    "\n",
    "* Noise Contrastive Estimation (NCE)\n",
    "\n",
    "    NCE se propone como una forma de entrenar modelos diferenciando datos reales de una distribución de ruido a través de regresión logística. Es conceptualmente más compleja y requiere ajustes precisos, pero proporciona una base teórica sólida para la estimación eficiente de los parámetros del modelo.\n",
    "\n",
    "* Negative Sampling (NEG)\n",
    "\n",
    "    Negative Sampling es una simplificación de Noise Contrastive Estimation que mejora la velocidad de entrenamiento al enfocarse en diferenciar la palabra objetivo de unas pocas muestras negativas en lugar de todo el vocabulario. Es menos preciso que Hierarchical Softmax para datasets pequeños pero escala maravillosamente bien para conjuntos de datos más grandes, haciendo que el entrenamiento sea viable incluso con vocabularios extremadamente grandes.\n",
    "\n",
    "\n",
    "Aunque Hierarchical Softmax y NCE tienen sus méritos, Mikolov favorece el uso de Negative Sampling para la mayoría de las aplicaciones prácticas del modelo Skip-gram. NEG no solo simplifica enormemente el proceso de entrenamiento sino que también provee una eficiencia excepcional sin sacrificar la calidad de las representaciones vectoriales aprendidas. Es especialmente útil para conjuntos de datos grandes, donde un número pequeño de muestras negativas puede ser suficiente para mantener un alto rendimiento.\n",
    "\n",
    "**5. ¿Cual diría usted que es la principal conclusión y aportación del paper de w2v? ¿Qué crítica haría usted a estos papers de w2v?**\n",
    "\n",
    "Bueno, me parecieron increíbles. Me pareció super wao que pude leerlos y entender la mayoría sin problemas. Creo que la aportación mas importante de w2v es la capacidad de poder producir representaciones vectoriales de palabras que tengan sentido matemático y semántico. Me voló la cabeza el hecho de que las operaciones vectoriales conducían a significados semánticos. El lenguaje es algo que evoluciona en el tiempo, que no tiene muchas relaciones aparentes y que es difícil de modelar, y contar con una herramienta como word2vec, con la cual es posible fácilmente encontrar este tipo de relaciones matemáticas es increíble, me parece increíble lo que después podríamos encontrar. Mi critica es muy positiva, creo que son fáciles de leer y de entender, ademas de que citan todas las fuentes de datos que utilizaron para los entrenamientos. Lo único que me hubiera gustado es una explicación mas detallada de como se plantearon y funcionan las propuestas CBOW y skip-grams. "
   ]
  },
  {
   "cell_type": "markdown",
   "metadata": {},
   "source": [
    "## Glove\n",
    "\n",
    "**Lea el paper de Glove y explique brevemente los siguientes puntos:**\n",
    "\n",
    "**1. ¿Qué desventaja trata de solucionar de W2V?**\n",
    "\n",
    "En el articulo [3], se habla acerca de los modelos de generación de espacios vectoriales semánticos. Concretamente los propuestos por Mikolov con los llamados por el autor como **Métodos de ventana poco profunda**, los cuales utilizan el contexto local para generar vectores de representación de palabras en una ventana de contexto. La desventaja que se plantea en el articulo es que mientras otros modelos como el LSA aprovechan la información estadística contenida en todo el corpus, los modelos w2v no operan con las co-ocurrencias estadísticas del corpus, sino que se limitan a utilizar una ventana a traves de todo el corpus, desaprovechando la ventaja de la cantidad de repetición de palabras en el corpus. \n",
    "\n",
    "**2. Describa en sus propias palabras y de manera general cual es la principal estrategia para lograrlo.**\n",
    "\n",
    "Para poder superar las limitaciones de w2v Pennington, Jeffrey y Socher proponen GloVe por *global vectors* vectores globales. GloVe busca superar las limitaciones de Word2Vec mediante la implementación de un modelo que combina la fuerza de los métodos basados en la matriz de co-ocurrencia (LSA), que toman en cuenta la estadística del texto con la eficiencia de los modelos predictivos, (skip-grams) los cuales utilizan una ventana de contexto. GloVe utiliza una matriz global de co-ocurrencias para todo el corpus, capturando así la frecuencia con la que cada palabra aparece en el contexto de las otras. Este enfoque permite que GloVe no solo considere la información local de la ventana de contexto, sino también las estadísticas globales del corpus, solventando los problemas de cada modelo por separado, proporcionando una gran captura de las relaciones semánticas entre las palabras.\n",
    "\n",
    "**3. Explique en sus propias palabras las principales conclusiones de los experimentos. Comente si cree que se logró el objetivo.**\n",
    "\n",
    "Los experimentos realizados en el desarrollo de GloVe demuestran que el modelo es capaz de capturar subestructuras intrincadas del espacio semántico más eficazmente que los modelos anteriores, como Word2Vec o LSA, especialmente en tareas de analogía de palabras. Las pruebas que se hicieron en el articulo muestran que los embeddings de GloVe retienen una cantidad significativa de varianza semántica y sintáctica, lo cual era el objetivo principal. Creo firmemente que se logró el objetivo de combinar eficazmente la información global y local del corpus para producir representaciones vectoriales más informativas y precisas.\n",
    "\n",
    "**4. ¿Encuentra alguna relación entre Glove y las clasicas TCOR y DOR? ¿Cuáles?**\n",
    "\n",
    "Realmente si hay una relación conceptual con TCOR Y DOR en el sentido de que todos estos enfoques se basan en la observación de cómo las palabras coexisten y se distribuyen en grandes corpus de texto. Sin embargo, GloVe innova sobre estas ideas al aplicar un modelo logarítmico y una función de ponderación que ayuda a mejorar la calidad de los embeddings al ajustar la influencia de las co-ocurrencias según su frecuencia, algo que no pasa en los métodos TCOR y DOR.\n",
    "\n",
    "**5. ¿Cual diría usted que es la principal conclusión y aportación del paper de Glove? ¿Qué crítica haría usted a este paper de Glove?**\n",
    "\n",
    "En el articulo de GloVe la principal aportación del paper de GloVe es demostrar que es posible mejorar significativamente la calidad de los embeddings de palabras integrando la información estadística global del corpus a través de una matriz de co-ocurrencia y combinarla con redes neuronales. Una posible crítica podría ser que, a pesar de su efectividad, la construcción y almacenamiento de grandes matrices de co-ocurrencia puede ser computacionalmente muy costosa y exigente en términos de memoria, lo que podría limitar su aplicabilidad en dispositivos con recursos limitados o con corpus extremadamente grandes."
   ]
  },
  {
   "cell_type": "markdown",
   "metadata": {},
   "source": [
    "## Otros papers\n",
    "\n",
    "**Lea los papers de Directional Word2Vec, Fast Text, el de gnome-mining, así como el paper de CNNs de Kim y conteste.**\n",
    "\n",
    "**1. ¿Qué desventaja trata de solucionar FastText y cómo lo logra?**\n",
    "\n",
    "Una de las desventajas de los modelos w2v es que no pueden manejar palabras que están fuera del vocabulario. FastText aborda principalmente esta desventaja en el manejo de palabras fuera del vocabulario y en la captura de información morfológica de las palabras. Para solucionar este problema FastText utiliza subpalabras o n-gramas de caracteres dentro de cada palabra :o para aprender los embeddings. Por ejemplo, para la palabra \"apple\", FastText considerará subcadenas como \"app\", \"ple\", \"appl\", \"e\", y otros n-gramas de caracteres, dependiendo de los parámetros seleccionados. De esta manera, incluso si la palabra completa *apple* no está presente en el vocabulario, el modelo puede construir su vector a partir de los n-gramas que sí ha visto durante el entrenamiento. Esto no solo ayuda con las palabras fuera del vocabulario sino que también permite que el modelo refleje mejor la estructura morfológica de las palabras, capturando raíces, prefijos, sufijos y otras subunidades lingüísticas.\n",
    "\n",
    "**2. ¿Cuál sería la principal desventaja de FastText vs Word2Vec?**\n",
    "\n",
    "Una de las principales desventajas de FastText en comparación con Word2Vec es su mayor complejidad y requerimientos computacionales. Al considerar n-gramas de caracteres además de palabras completas, FastText genera y procesa muchos más datos durante el entrenamiento. FastText puede utilizar mucha mas memoria, además de tiempo de entrenamiento que un modelo w2v. A pesar de su innovación para poder manejar palabras nuevas, estas ventajas vienen con un costo de mayor complejidad computacional y uso de recursos. \n",
    "\n",
    "**3. ¿Qué desventaja trata de solucionar el paper de Directional W2V y cómo lo logra? Describa brevemente las conclusiones de la sección experimental.**\n",
    "\n",
    "El modelo Directional w2v aborda la desventaja de los modelos tradicionales w2v que no consideran la dirección en la relación entre palabras. Estos modelos propuestos por Mikolov asumen que las palabras dentro de una ventana de contexto contribuyen igualmente al significado de la palabra objetivo, sin importar su posición relativa. Esta aproximación puede no capturar completamente la naturaleza direccional de las relaciones semánticas y sintácticas en el lenguaje. Para poder resolver esta problemática, el Directional W2V introduce un mecanismo que diferencia entre las palabras antes y después de la palabra objetivo en la ventana de contexto. \n",
    "\n",
    "La sección experimental del paper muestra que el Directional W2V puede mejorar significativamente el rendimiento en tareas que dependen de una comprensión precisa de la estructura lingüística, como el análisis sintáctico (part of speech tagging) o la desambiguación semántica (word similarity evaluation). Las pruebas empíricas sugieren que este enfoque captura mejor las relaciones contextuales, lo que resulta en una calidad superior de los embeddings y un mejor desempeño en comparación con el modelo estándar de Word2Vec. \n",
    "\n",
    "**4. ¿Qué se dice acerca del análisis de complejidad del Directional w2v?**\n",
    "\n",
    "El modelo Directional Skip-Gram (DSG) aumenta ligeramente la complejidad en comparación con el modelo Skip-Gram (SG) estándar, tanto en términos de espacio como de tiempo, debido a la necesidad de gestionar un vector adicional para la dirección. Cada palabra en el DSG requiere solo una operación más que en el SG, lo que permite que el DSG mantenga una eficiencia comparable al SG, incluso cuando se amplía el contexto. A diferencia del modelo Symmetric Skip-Gram (SSG), que incrementa significativamente la complejidad al manejar múltiples embeddings de salida por cada dirección contextual, el DSG simplifica la estructura utilizando un único vector de palabra y un vector de dirección que predice explícitamente la orientación del contexto (izquierda o derecha).\n",
    "\n",
    "**5. En el paper de gnome-mining, ¿Qué técnicas de NLP son usadas y con que objetivo intuitivo cada una?**\n",
    "\n",
    "En el artículo sobre genome-mining, además de algunas técnicas de machine learning y deep learning, se utilizan dos técnicas principales de procesamiento de lenguaje natural para la identificación mejorada de los clusters biosintéticos de genes (BGCs) en genomas bacterianos. Estas técnicas son las Redes Neuronales Recurrentes (RNNs) específicamente en forma de Bidirectional Long Short-Term Memory (BiLSTM) y una red neuronal de tipo skip-gram que se denomina pfam2vec. Los objetivos de las técnicas son los siguientes:\n",
    "\n",
    "* Bidirectional Long Short-Term Memory (BiLSTM):\n",
    "\n",
    "    La BiLSTM se emplea para capturar la información contextual de las secuencias de datos tanto en la dirección hacia adelante como hacia atrás (bidireccional). Esto es crucial en la genómica, donde la función o característica de una secuencia puede ser influenciada fuertemente por sus segmentos adyacentes. Utilizar BiLSTM permite al modelo aprender de las dependencias a largo plazo y capturar mejor la estructura y las relaciones complejas en las secuencias genómicas, lo que resulta en una identificación más precisa de BGCs.\n",
    "\n",
    "* Pfam2vec (skip-gram model):\n",
    "\n",
    "    Similar a w2v en NLP, pfam2vec utiliza el método skip-gram para generar representaciones vectoriales (embeddings) de las familias de proteínas (Pfam). Estas representaciones son aprendidas de la misma palabra que las palabras pero ahora para proteínas. Este enfoque facilita la identificación de patrones y relaciones funcionales entre diferentes familias de proteínas, lo que es esencial para reconocer y caracterizar BGCs en genomas bacterianos.\n",
    "\n",
    "**6. ¿En que problemas de clasificación evaluó Kim su CNN?**\n",
    "\n",
    "Kim evaluó su red neuronal convolucional (CNN) principalmente en la tarea de clasificación de secuencias genómicas, específicamente diferenciando entre clústeres biosintéticos de genes (BGCs) y regiones no-BGC. Esta clasificación se realizó utilizando conjuntos de datos diversificados que incluían secuencias etiquetadas como BGC y no-BGC para entrenar y validar el modelo. Los datos para la validación y el entrenamiento incluían un conjunto significativo de BGCs publicados y otros identificados en la base de datos MIBiG, junto con múltiples genomas bacterianos que habían sido manualmente anotados con regiones BGC y no-BGC.\n",
    "\n",
    "**7. En los resultados dónde estuvo involucrado algún método de clasificación con SVM, ¿Cómo fue el resultado respecto a CNNs? ¿Qué features usaba el método basado en SVM?**\n",
    "\n",
    "Las características típicamente empleadas en SVM para tareas similares incluyen conteos de n-gramas de aminoácidos, composición de codones, o características físico-químicas derivadas de las secuencias. En este contexto y de manera general las CNNs tienen un rendimiento superior debido a su capacidad para aprender características representativas directamente de los datos crudos, capturando relaciones complejas que los métodos basados en características predefinidas como las SVM podrían no detectar eficientemente.\n",
    "\n",
    "**8. En sus propias palabras, ¿Qué diferencia tienen las estrategias multi-channel y single-channel?, ¿Cuál recomienda Kim?**\n",
    "\n",
    "Las estrategias multi-channel y single-channel se refieren al uso de múltiples o un único conjunto de características o representaciones de datos, respectivamente. En una estrategia multi-channel, diferentes tipos de datos o diferentes representaciones de un mismo dato son procesados en canales separados, permitiendo que el modelo capture y combine información variada de manera efectiva. En contraste, un enfoque single-channel utiliza una única fuente de datos o representación. Aunque Kim no especifica explícitamente una recomendación entre multi-channel y single-channel, generalmente en deep learning, especialmente en tareas complejas de clasificación y predicción, los enfoques multi-channel suelen ser preferidos por su capacidad para integrar y aprender de múltiples perspectivas de los datos.\n",
    "\n",
    "**9. ¿Cuál diría usted que es la principal conclusión y aportación del paper de Kim? ¿Qué crítica le haría usted a Kim?**\n",
    "\n",
    "La principal conclusión y aportación del trabajo de Kim es la demostración de que las técnicas avanzadas de deep learning, como las CNNs y específicamente las arquitecturas BiLSTM y técnicas de embedding como pfam2vec, pueden ser efectivamente aplicadas para la identificación y clasificación de BGCs en genomas bacterianos. Esto marca un avance significativo en la genómica, permitiendo una detección más precisa y automática de regiones genéticas de interés. Una posible crítica al estudio podría ser la necesidad de una mayor claridad en la comparación directa de los rendimientos entre diferentes modelos de clasificación, como CNNs frente a SVM, y cómo cada modelo maneja diferentes tipos y tamaños de datos, lo que podría proporcionar insights más profundos sobre la aplicabilidad y eficiencia de las CNNs en comparación con métodos más tradicionales."
   ]
  },
  {
   "cell_type": "markdown",
   "metadata": {},
   "source": [
    "## 4 CNNs\n",
    "\n",
    "**Estudie superficialmente el siguiente [notebook](https://github.com/fagonzalezo/dl-tau-2017-2/blob/master/Handout-CNN-sentence-classification.ipynb). En esta tarea se le pro-porcionará el CNN-rand pero en Pytorch. Investigue lo necesario para completar el CNN-static y el CNN-non-static por usted mismo. Contruya la gŕafica de comparación de los tres.**\n",
    "\n",
    "Las **Redes Neuronales Convolucionales (CNN)** son una clase de redes neuronales profundas que han demostrado ser extremadamente eficaces para tareas de análisis y clasificación de imágenes. Su éxito se debe a su capacidad para detectar patrones jerárquicos en los datos; por ejemplo, en imágenes, las primeras capas pueden detectar bordes, las capas intermedias pueden aprender a reconocer partes de objetos y las capas más profundas pueden identificar objetos completos.\n",
    "\n",
    "Las CNN utilizan tres ideas clave que las hacen adecuadas para el procesamiento de imágenes y, más recientemente, para texto y otros tipos de datos secuenciales:\n",
    "1. **Convoluciones Locales:** En lugar de aprender pesos globales como en las redes densas, las CNN aprenden pesos locales a través de filtros o kernels. Estos filtros se desplazan sobre la entrada para producir un mapa de características que resume la presencia de patrones específicos en diferentes ubicaciones de la entrada.\n",
    "2. **Compartición de Parámetros:** El mismo filtro (con los mismos pesos) se aplica a diferentes partes de la entrada. Esto no solo reduce la cantidad de parámetros en el modelo, haciendo que la red sea más eficiente y menos propensa al sobreajuste, sino que también permite que el modelo generalice bien sobre datos espacialmente invariantes.\n",
    "3. **Pooling:** Generalmente después de varias convoluciones, se utiliza una operación de pooling para reducir la dimensionalidad de los mapas de características, lo que ayuda a hacer que las representaciones sean más manejables computacionalmente y más robustas a las variaciones en la posición de los patrones dentro de las entradas.\n",
    "\n",
    "### Variaciones de CNN para Clasificación de Texto\n",
    "\n",
    "En el contexto de la clasificación de texto, Yoon Kim [7] en su modelo propuso variantes para manejar los embeddings de palabras:\n",
    "\n",
    "**1. CNN-rand:**\n",
    "- **Descripción:** En esta variante, los embeddings de palabras se inicializan aleatoriamente y se aprenden desde cero durante el entrenamiento del modelo. Es decir, los embeddings son tratados como parámetros del modelo que se ajustan para minimizar la función de pérdida durante el entrenamiento.\n",
    "- **Uso:** Útil cuando no se dispone de embeddings preentrenados o cuando se desea explorar cómo un aprendizaje desde cero puede afectar el rendimiento del modelo.\n",
    "\n",
    "**2. CNN-static:**\n",
    "- **Descripción:** Los embeddings de palabras se inicializan con vectores preentrenados (como Word2Vec o GloVe) y se mantienen fijos durante el entrenamiento. Los embeddings no se ajustan, lo que significa que el aprendizaje se concentra en las capas superiores de la red.\n",
    "- **Uso:** Adecuado cuando se confía en la calidad de los embeddings preentrenados y se desea que el modelo se concentre en aprender patrones de más alto nivel en los datos sin alterar la representación subyacente de las palabras.\n",
    "\n",
    "**3. CNN-non-static:**\n",
    "- **Descripción:** Similar a CNN-static pero, en este caso, los embeddings de palabras se inicializan con vectores preentrenados y luego se afinan durante el entrenamiento. Esto permite que el modelo ajuste los embeddings para adaptarlos mejor a la tarea específica de clasificación.\n",
    "- **Uso:** Óptimo cuando los embeddings preentrenados son un buen punto de partida, pero se cree que pequeños ajustes a estos embeddings pueden mejorar el rendimiento en la tarea específica.\n",
    "\n",
    "Vamos a implementar los tres modelos utilizando pytorch. \n",
    "\n",
    "### Modelo CNN-rand\n",
    "\n",
    "Librerías "
   ]
  },
  {
   "cell_type": "code",
   "execution_count": 1,
   "metadata": {},
   "outputs": [],
   "source": [
    "# Tools\n",
    "import os\n",
    "import time\n",
    "import random\n",
    "import shutil\n",
    "from argparse import Namespace\n",
    "import matplotlib.pyplot as plt\n",
    "from typing import Callable, Tuple\n",
    "\n",
    "# Preprocessing\n",
    "from nltk.tokenize import TweetTokenizer\n",
    "from nltk import FreqDist\n",
    "import pandas as pd\n",
    "import numpy as np\n",
    "\n",
    "# PyTorch\n",
    "from torch.utils.data import DataLoader, Dataset\n",
    "import torch\n",
    "import torch.nn as nn\n",
    "import torch.nn.functional as F\n",
    "from torch.nn.utils.rnn import pad_sequence\n",
    "\n",
    "# scikit-learn\n",
    "from sklearn.model_selection import train_test_split\n",
    "from sklearn.metrics import accuracy_score\n",
    "\n",
    "# word embeddings\n",
    "from gensim.models import Word2Vec\n",
    "from gensim.models.keyedvectors import Word2VecKeyedVectors"
   ]
  },
  {
   "cell_type": "markdown",
   "metadata": {},
   "source": [
    "Seeds for reproducibility"
   ]
  },
  {
   "cell_type": "code",
   "execution_count": 2,
   "metadata": {},
   "outputs": [],
   "source": [
    "args = Namespace()\n",
    "\n",
    "args.seed = 1111\n",
    "random.seed(args.seed) # python seed\n",
    "np.random.seed(args.seed) # numpy seed\n",
    "torch.manual_seed(args.seed) # torch seed\n",
    "torch.backends.cudnn.benchmark = False # causes cuDNN to deterministically select algorithms for Neural Network operations\n",
    "torch.backends.cudnn.deterministic = True # Use deterministic algorithms instead of non-deterministic where available"
   ]
  },
  {
   "cell_type": "markdown",
   "metadata": {},
   "source": [
    "### Load Dataset"
   ]
  },
  {
   "cell_type": "code",
   "execution_count": 4,
   "metadata": {},
   "outputs": [],
   "source": [
    "# Función que extrae el texto de dos archivos. Uno el de los documentos, otro el de las etiquetas\n",
    "def get_text_from_file(path_corpus, path_truth):\n",
    "\n",
    "    tr_text = []\n",
    "    tr_labels = []\n",
    "\n",
    "    with open(path_corpus, \"r\") as f_corpus, open(path_truth, \"r\") as f_truth:\n",
    "        for tweet in f_corpus:\n",
    "            tr_text += [tweet]\n",
    "        for label in f_truth:\n",
    "            tr_labels += [label]\n",
    "\n",
    "    return tr_text, tr_labels"
   ]
  },
  {
   "cell_type": "markdown",
   "metadata": {},
   "source": [
    "Set split hyperparameter and split data"
   ]
  },
  {
   "cell_type": "code",
   "execution_count": 12,
   "metadata": {},
   "outputs": [],
   "source": [
    "args.val_size = 0.1"
   ]
  },
  {
   "cell_type": "code",
   "execution_count": 20,
   "metadata": {},
   "outputs": [],
   "source": [
    "path_text = \"/Users/guillermo_sego/Desktop/Segundo Semestre/PLN/Data/MexData/mex20_train.txt\"\n",
    "path_labels = \"/Users/guillermo_sego/Desktop/Segundo Semestre/PLN/Data/MexData/mex20_train_labels.txt\"\n",
    "\n",
    "path_text_val = \"/Users/guillermo_sego/Desktop/Segundo Semestre/PLN/Data/MexData/mex20_val.txt\"\n",
    "path_labels_val = \"/Users/guillermo_sego/Desktop/Segundo Semestre/PLN/Data/MexData/mex20_val_labels.txt\"\n",
    "\n",
    "X_train = pd.read_csv(path_text, sep='\\r\\n', engine='python', header=None).loc[:,0]\n",
    "y_train = pd.read_csv(path_labels, header=None).loc[:,0]\n",
    "\n",
    "X_train, X_val, y_train, y_val = train_test_split(X_train, y_train, test_size=args.val_size, random_state=args.seed)\n",
    "\n",
    "X_test = pd.read_csv(path_text_val, sep='\\r\\n', engine='python', header=None).loc[:,0]\n",
    "y_test = pd.read_csv(path_labels_val, header=None).loc[:,0]"
   ]
  },
  {
   "cell_type": "markdown",
   "metadata": {},
   "source": [
    "Functions to build vocabulary"
   ]
  },
  {
   "cell_type": "code",
   "execution_count": 21,
   "metadata": {},
   "outputs": [],
   "source": [
    "def get_vocab(corpus: pd.DataFrame,\n",
    "              tokenizer: Callable[[str], list],\n",
    "              max_features: int) -> set:\n",
    "    freq_dist = FreqDist([w.lower() for sentence in corpus\\\n",
    "                                    for w in tokenizer(sentence)])\n",
    "\n",
    "    sorted_words = sortFreqDict(freq_dist)[:min(max_features-1, len(freq_dist))]\n",
    "    w2idx = {word: i+1 for i, word in enumerate(sorted_words)}\n",
    "\n",
    "    # Append <pad> token with 0 index\n",
    "    sorted_words.append('<pad>')\n",
    "    w2idx['<pad>'] = 0\n",
    "\n",
    "    return set(sorted_words), w2idx\n",
    "\n",
    "def sortFreqDict(freq_dist: FreqDist) -> list:\n",
    "    freq_dict = dict(freq_dist)\n",
    "    return sorted(freq_dict, key=freq_dict.get, reverse=True)"
   ]
  },
  {
   "cell_type": "code",
   "execution_count": 22,
   "metadata": {},
   "outputs": [],
   "source": [
    "# Set vocab size\n",
    "args.vocab_size = 5000\n",
    "\n",
    "tk = TweetTokenizer()\n",
    "vocab, w2idx = get_vocab(X_train, tk.tokenize, args.vocab_size)"
   ]
  },
  {
   "cell_type": "markdown",
   "metadata": {},
   "source": [
    "### Define Dataset, collate_fn and Dataloader"
   ]
  },
  {
   "cell_type": "markdown",
   "metadata": {},
   "source": [
    "Define Map-style Dataset (one that implements the `__getitem__()` and `__len__()` protocols) class for processing each observation in the correct format for the model"
   ]
  },
  {
   "cell_type": "code",
   "execution_count": 23,
   "metadata": {},
   "outputs": [],
   "source": [
    "class TweeterDataset(Dataset):\n",
    "    def __init__(self,\n",
    "                 X: pd.DataFrame,\n",
    "                 y: pd.DataFrame,\n",
    "                 vocab: set,\n",
    "                 w2idx: dict,\n",
    "                 tokenizer: Callable[[str], list],\n",
    "                 max_seq_len: int):\n",
    "        self.X = X\n",
    "        self.y = y\n",
    "        self.vocab = vocab\n",
    "        self.w2idx = w2idx\n",
    "        self.tokenizer = tokenizer\n",
    "        self.max_seq_len = max_seq_len\n",
    "\n",
    "    def __len__(self):\n",
    "        return self.X.shape[0]\n",
    "\n",
    "    def __getitem__(self, idx):\n",
    "        # Get sequence of token ids\n",
    "        sentence = self.X.iloc[idx]\n",
    "        tokens = [self.w2idx[w] for w in self.tokenizer(sentence) if w in self.vocab]\n",
    "\n",
    "        # Truncate sequence up to max_seq_len\n",
    "        truncate_len = min(len(tokens), self.max_seq_len)\n",
    "        tokens = tokens[:truncate_len]\n",
    "\n",
    "        # Get true label\n",
    "        label = self.y.iloc[idx]\n",
    "\n",
    "        return torch.LongTensor(tokens), torch.LongTensor([label])"
   ]
  },
  {
   "cell_type": "markdown",
   "metadata": {},
   "source": [
    "Define function to collate samples fetched by the sampler from the Dataset. The Dataloader will return the output of this `collate_fn` that we define."
   ]
  },
  {
   "cell_type": "code",
   "execution_count": 24,
   "metadata": {},
   "outputs": [],
   "source": [
    "def collate_fn(batch):\n",
    "    # Get X\n",
    "    batch_tokens = [row[0] for row in batch]\n",
    "    # Get y\n",
    "    batch_labels = torch.LongTensor([row[1] for row in batch]).to(torch.float)\n",
    "\n",
    "    # Pad with 0 (to the rigth) shorter sequences than max_seq_len\n",
    "    padded_batch_tokens = pad_sequence(batch_tokens, batch_first=True)\n",
    "\n",
    "    return padded_batch_tokens, batch_labels.unsqueeze(1)"
   ]
  },
  {
   "cell_type": "markdown",
   "metadata": {},
   "source": [
    "Build Dataloaders to process batches of observations from the Datasets"
   ]
  },
  {
   "cell_type": "code",
   "execution_count": 25,
   "metadata": {},
   "outputs": [],
   "source": [
    "# Set batch size in args\n",
    "args.batch_size = 64\n",
    "\n",
    "# Num workers\n",
    "args.num_workers = 0\n",
    "\n",
    "# Maximum sequence length\n",
    "args.max_seq_len = 20"
   ]
  },
  {
   "cell_type": "code",
   "execution_count": 26,
   "metadata": {},
   "outputs": [],
   "source": [
    "# Training\n",
    "train_dataset = TweeterDataset(X_train, y_train, vocab, w2idx, tk.tokenize, args.max_seq_len)\n",
    "train_loader = DataLoader(train_dataset,\n",
    "                          batch_size=args.batch_size,\n",
    "                          num_workers=args.num_workers,\n",
    "                          collate_fn=collate_fn,\n",
    "                          shuffle=True)\n",
    "\n",
    "# Validation\n",
    "val_dataset = TweeterDataset(X_val, y_val, vocab, w2idx, tk.tokenize, args.max_seq_len)\n",
    "val_loader = DataLoader(val_dataset,\n",
    "                          batch_size=args.batch_size,\n",
    "                          num_workers=args.num_workers,\n",
    "                          collate_fn=collate_fn,\n",
    "                          shuffle=False)\n",
    "\n",
    "# Test\n",
    "test_dataset = TweeterDataset(X_test, y_test, vocab, w2idx, tk.tokenize, args.max_seq_len)\n",
    "test_loader = DataLoader(test_dataset,\n",
    "                          batch_size=args.batch_size,\n",
    "                          num_workers=args.num_workers,\n",
    "                          collate_fn=collate_fn,\n",
    "                          shuffle=False)"
   ]
  },
  {
   "cell_type": "markdown",
   "metadata": {},
   "source": [
    "When iterating a ```Dataloader```, the whole order of execution to get a batch is roughly the following:\n",
    "\n",
    "1. A `Sampler` object in `batch_sampler` variable, retrieves a batch of indices.\n",
    "\n",
    "2. For each retrieved index, get the data from the defined `Dataset` object, process all the batch samples with the defined `collate_fn` and return the result:\n",
    "\n",
    "    ```\n",
    "    for indices in batch_sampler:\n",
    "        yield collate_fn([dataset[i] for i in indices])\n",
    "    ```\n",
    "\n",
    "\n"
   ]
  },
  {
   "cell_type": "markdown",
   "metadata": {},
   "source": [
    "Testing train Dataloader"
   ]
  },
  {
   "cell_type": "code",
   "execution_count": 27,
   "metadata": {},
   "outputs": [
    {
     "name": "stdout",
     "output_type": "stream",
     "text": [
      "X_batch shape: torch.Size([64, 20])\n",
      "y_batch shape: torch.Size([64, 1])\n"
     ]
    }
   ],
   "source": [
    "batch_ = next(iter(train_loader))\n",
    "print(f'X_batch shape: {batch_[0].shape}')\n",
    "print(f'y_batch shape: {batch_[1].shape}')"
   ]
  },
  {
   "cell_type": "markdown",
   "metadata": {},
   "source": [
    "### Define CNN text classifier"
   ]
  },
  {
   "cell_type": "code",
   "execution_count": 28,
   "metadata": {},
   "outputs": [],
   "source": [
    "class CNNTextCls(nn.Module):\n",
    "    def __init__(self, args, embeddings=None, freeze=False):\n",
    "        super(CNNTextCls, self).__init__()\n",
    "\n",
    "        if embeddings is not None:\n",
    "            self.emb = nn.Embedding.from_pretrained(torch.FloatTensor(embeddings))\n",
    "            if freeze:\n",
    "                self.emb.weight.requires_grad=False\n",
    "        else:\n",
    "            self.emb = nn.Embedding(args.vocab_size, args.d)\n",
    "\n",
    "        conv_block_list = []\n",
    "\n",
    "        for k in args.filter_sizes:\n",
    "            conv_block = nn.Sequential(\n",
    "                nn.Conv1d(in_channels=args.d, out_channels=args.num_filters, kernel_size=k, stride=1),\n",
    "                nn.ReLU(),\n",
    "                nn.MaxPool1d(kernel_size=(args.max_seq_len-k+1))\n",
    "            )\n",
    "            conv_block_list.append(conv_block)\n",
    "\n",
    "        self.conv_block_list = nn.ModuleList(conv_block_list)\n",
    "        self.dropout = nn.Dropout(args.dropout)\n",
    "        self.fc = nn.Linear(args.num_filters*len(args.filter_sizes), 1)\n",
    "\n",
    "    def forward(self, x):\n",
    "        '''\n",
    "        B: batch size\n",
    "        L: sequence length\n",
    "        D: embedding dim\n",
    "        C: Convolution output channels (number of filters)\n",
    "        k: Convolution kernel size\n",
    "        N: Number of convolution blocks\n",
    "\n",
    "        x shape: (B, L)\n",
    "        '''\n",
    "        x = self.emb(x) # (B, L, D)\n",
    "        x = x.transpose(1,2) # (B, D, L) conv1d expects L in last dimension\n",
    "\n",
    "        x_filter = []\n",
    "        for conv_block in self.conv_block_list: # Conv1d -> ReLU -> MaxPool1d\n",
    "            x_filter.append(conv_block(x).squeeze(2)) # (B, C, L-k+1) -> ReLU -> (B, C, 1) -> (B, C) after squeeze\n",
    "\n",
    "        x_cat = torch.cat(x_filter, dim=1) # (B, C*N)\n",
    "        x = self.dropout(x_cat)\n",
    "        return self.fc(x)"
   ]
  },
  {
   "cell_type": "markdown",
   "metadata": {},
   "source": [
    "### Helper functions for model evaluation"
   ]
  },
  {
   "cell_type": "code",
   "execution_count": 29,
   "metadata": {},
   "outputs": [],
   "source": [
    "def model_eval(data, model, gpu=False):\n",
    "    with torch.no_grad():\n",
    "        preds, tgts = [], []\n",
    "        for input, labels in data:\n",
    "            if gpu:\n",
    "                input = input.cuda()\n",
    "\n",
    "            outputs = model(input)\n",
    "\n",
    "            # Get prediction for Accuracy\n",
    "            y_pred = y_pred = torch.round(torch.sigmoid(outputs.detach())).cpu().numpy()\n",
    "\n",
    "            tgt = labels.numpy()\n",
    "            tgts.append(tgt)\n",
    "            preds.append(y_pred)\n",
    "\n",
    "    tgts = [e for l in tgts for e in l]\n",
    "    preds = [e for l in preds for e in l]\n",
    "\n",
    "    metrics = {\n",
    "        \"accuracy\": accuracy_score(tgts, preds),\n",
    "    }\n",
    "\n",
    "    return metrics"
   ]
  },
  {
   "cell_type": "markdown",
   "metadata": {},
   "source": [
    "### Helper function to save model"
   ]
  },
  {
   "cell_type": "code",
   "execution_count": 31,
   "metadata": {},
   "outputs": [],
   "source": [
    "def save_checkpoint(state, is_best, checkpoint_path, filename=\"checkpoint.pt\"):\n",
    "    filename = os.path.join(checkpoint_path, filename)\n",
    "    torch.save(state, filename)\n",
    "    if is_best:\n",
    "        shutil.copyfile(filename, os.path.join(checkpoint_path, \"model_best.pt\"))"
   ]
  },
  {
   "cell_type": "markdown",
   "metadata": {},
   "source": [
    "### Training function"
   ]
  },
  {
   "cell_type": "code",
   "execution_count": 32,
   "metadata": {},
   "outputs": [],
   "source": [
    "def train(args, model, train_loader, val_loader, optimizer, criterion, scheduler):\n",
    "    best_metric = 0\n",
    "    metric_history = []\n",
    "    train_metric_history = []\n",
    "\n",
    "    for epoch in range(args.num_epochs):\n",
    "        epoch_start_time = time.time()\n",
    "        loss_epoch = []\n",
    "        training_metrics = []\n",
    "        model.train()\n",
    "\n",
    "        for input, labels in train_loader:\n",
    "            # If GPU available\n",
    "            if args.use_gpu:\n",
    "                input = input.cuda()\n",
    "                labels = labels.cuda()\n",
    "\n",
    "            # Forward pass\n",
    "            outputs = model(input)\n",
    "\n",
    "            loss = criterion(outputs, labels)\n",
    "            loss_epoch.append(loss.item())\n",
    "\n",
    "            # Get training metric\n",
    "            preds = torch.round(torch.sigmoid(outputs.detach())).cpu().numpy()\n",
    "            training_metrics.append(accuracy_score(labels.cpu().numpy(), preds))\n",
    "\n",
    "            # Backward and optimize\n",
    "            optimizer.zero_grad()\n",
    "            loss.backward()\n",
    "            optimizer.step()\n",
    "\n",
    "        # Get metric in training dataset\n",
    "        mean_epoch_accuracy = np.mean(training_metrics)\n",
    "        train_metric_history.append(mean_epoch_accuracy)\n",
    "\n",
    "        # Get metric in validation dataset\n",
    "        model.eval()\n",
    "        tuning_metric = model_eval(val_loader, model, gpu=args.use_gpu)\n",
    "        metric_history.append(tuning_metric['accuracy'])\n",
    "\n",
    "        # Update scheduler\n",
    "        scheduler.step(tuning_metric['accuracy'])\n",
    "\n",
    "        # Check for metric improvement\n",
    "        is_improvement = tuning_metric['accuracy'] > best_metric\n",
    "        if is_improvement:\n",
    "            best_metric = tuning_metric['accuracy']\n",
    "            n_no_improve = 0\n",
    "        else:\n",
    "            n_no_improve += 1\n",
    "\n",
    "        # Save best model if metric improved\n",
    "        save_checkpoint(\n",
    "            {\n",
    "                \"epoch\": epoch + 1,\n",
    "                \"state_dict\": model.state_dict(),\n",
    "                \"optimizer\": optimizer.state_dict(),\n",
    "                \"scheduler\": scheduler.state_dict(),\n",
    "                \"best_metric\": best_metric,\n",
    "            },\n",
    "            is_improvement,\n",
    "            args.savedir,\n",
    "        )\n",
    "\n",
    "        # Early stopping\n",
    "        if n_no_improve >= args.patience:\n",
    "            print(\"No improvement. Breaking out of loop.\")\n",
    "            break\n",
    "\n",
    "        print ('Epoch [{}/{}], Loss: {:.4f} - Train Accuracy: {:.4f} - Val Accuracy: {:.4f} - Epoch time: {:.2f} s'\n",
    "            .format(epoch+1, args.num_epochs, np.mean(loss_epoch), mean_epoch_accuracy, tuning_metric['accuracy'], (time.time()- epoch_start_time)))\n",
    "\n",
    "    return train_metric_history, metric_history"
   ]
  },
  {
   "cell_type": "markdown",
   "metadata": {},
   "source": [
    "### Train CNN classifier"
   ]
  },
  {
   "cell_type": "code",
   "execution_count": 35,
   "metadata": {},
   "outputs": [
    {
     "name": "stderr",
     "output_type": "stream",
     "text": [
      "/Users/guillermo_sego/anaconda3/envs/PLN/lib/python3.11/site-packages/torch/optim/lr_scheduler.py:28: UserWarning: The verbose parameter is deprecated. Please use get_last_lr() to access the learning rate.\n",
      "  warnings.warn(\"The verbose parameter is deprecated. Please use get_last_lr() \"\n"
     ]
    }
   ],
   "source": [
    "# Model hyperparameters\n",
    "args.d = 100 # Dimension of word embeddings\n",
    "args.filter_sizes = [3, 4, 5]\n",
    "args.num_filters = 100\n",
    "args.dropout = 0.1\n",
    "\n",
    "# Training hyperparameters\n",
    "args.lr = 1e-2\n",
    "args.num_epochs = 10\n",
    "args.patience = 10\n",
    "\n",
    "# Scheduler hyperparameters\n",
    "args.lr_patience = 5\n",
    "args.lr_factor = 0.5\n",
    "\n",
    "# Saving directory\n",
    "args.savedir = 'modelCNN-rand'\n",
    "os.makedirs(args.savedir, exist_ok=True)\n",
    "\n",
    "# Create model\n",
    "model = CNNTextCls(args)\n",
    "\n",
    "# Send to GPU\n",
    "args.use_gpu = torch.cuda.is_available()\n",
    "if args.use_gpu:\n",
    "    model.cuda()\n",
    "\n",
    "# Loss, Optimizer and Scheduler\n",
    "criterion = nn.BCEWithLogitsLoss()\n",
    "optimizer = torch.optim.SGD(model.parameters(), lr=args.lr)\n",
    "scheduler = torch.optim.lr_scheduler.ReduceLROnPlateau(\n",
    "                optimizer, \"max\",\n",
    "                patience=args.lr_patience,\n",
    "                verbose=True,\n",
    "                factor=args.lr_factor\n",
    "            )"
   ]
  },
  {
   "cell_type": "code",
   "execution_count": 36,
   "metadata": {},
   "outputs": [
    {
     "name": "stdout",
     "output_type": "stream",
     "text": [
      "Epoch [1/10], Loss: 0.6099 - Train Accuracy: 0.7056 - Val Accuracy: 0.7216 - Epoch time: 3.00 s\n",
      "Epoch [2/10], Loss: 0.5980 - Train Accuracy: 0.7111 - Val Accuracy: 0.7216 - Epoch time: 2.95 s\n",
      "Epoch [3/10], Loss: 0.5884 - Train Accuracy: 0.7117 - Val Accuracy: 0.7216 - Epoch time: 2.90 s\n",
      "Epoch [4/10], Loss: 0.5817 - Train Accuracy: 0.7122 - Val Accuracy: 0.7235 - Epoch time: 2.75 s\n",
      "Epoch [5/10], Loss: 0.5763 - Train Accuracy: 0.7104 - Val Accuracy: 0.7159 - Epoch time: 2.79 s\n",
      "Epoch [6/10], Loss: 0.5693 - Train Accuracy: 0.7105 - Val Accuracy: 0.7443 - Epoch time: 2.86 s\n",
      "Epoch [7/10], Loss: 0.5566 - Train Accuracy: 0.7195 - Val Accuracy: 0.7273 - Epoch time: 2.94 s\n",
      "Epoch [8/10], Loss: 0.5465 - Train Accuracy: 0.7219 - Val Accuracy: 0.7273 - Epoch time: 3.15 s\n",
      "Epoch [9/10], Loss: 0.5396 - Train Accuracy: 0.7275 - Val Accuracy: 0.7443 - Epoch time: 2.77 s\n",
      "Epoch [10/10], Loss: 0.5308 - Train Accuracy: 0.7353 - Val Accuracy: 0.7462 - Epoch time: 3.12 s\n",
      "Total training time: 29.2346 seconds\n"
     ]
    }
   ],
   "source": [
    "start_time = time.time()\n",
    "train_metric_history, val_metric_history = train(args, model, train_loader, val_loader, optimizer, criterion, scheduler)\n",
    "print(\"Total training time: {:.4f} seconds\".format((time.time() - start_time)))"
   ]
  },
  {
   "cell_type": "code",
   "execution_count": 37,
   "metadata": {},
   "outputs": [
    {
     "name": "stdout",
     "output_type": "stream",
     "text": [
      "\n",
      "Test Accuracy: 0.7308\n"
     ]
    }
   ],
   "source": [
    "model.load_state_dict(torch.load('modelCNN-rand/model_best.pt')['state_dict'])\n",
    "model.eval()\n",
    "test_metric = model_eval(test_loader, model, gpu=args.use_gpu)\n",
    "print(\"\\nTest Accuracy: {:.4f}\".format(test_metric[\"accuracy\"]))"
   ]
  },
  {
   "cell_type": "code",
   "execution_count": 38,
   "metadata": {},
   "outputs": [
    {
     "data": {
      "image/png": "[encoded data removed]",
      "text/plain": [
       "<Figure size 640x480 with 1 Axes>"
      ]
     },
     "metadata": {},
     "output_type": "display_data"
    }
   ],
   "source": [
    "plt.plot(train_metric_history, label='train')\n",
    "plt.plot(val_metric_history, label='val')\n",
    "plt.title('CNN Classifier')\n",
    "plt.ylabel('Accuracy')\n",
    "plt.xlabel('# epoch')\n",
    "plt.legend(loc='best')\n",
    "plt.show()"
   ]
  },
  {
   "cell_type": "markdown",
   "metadata": {},
   "source": [
    "## Modelo CNN-static\n",
    "\n",
    "En este modelo necesitamos utilizar embeddings pre entrenados como los de w2v. Para realizar esto es necesario descargarlos."
   ]
  },
  {
   "cell_type": "markdown",
   "metadata": {},
   "source": [
    "## Referencias\n",
    "\n",
    "[1] Mikolov, Tomas, et al. \"Distributed representations of words and phrases and their compositionality.\" Advances in neural information processing systems 26 (2013).\n",
    "\n",
    "[2] Mikolov, Tomas, et al. \"Efficient estimation of word representations in vector space.\" arXiv preprint arXiv:1301.3781 (2013).\n",
    "\n",
    "[3] Pennington, Jeffrey, Richard Socher, and Christopher D. Manning. \"Glove: Global vectors for word representation.\" Proceedings of the 2014 conference on empirical methods in natural language processing (EMNLP). 2014.\n",
    "\n",
    "[4] Song, Yan, et al. \"Directional skip-gram: Explicitly distinguishing left and right context for word embeddings.\" Proceedings of the 2018 Conference of the North American Chapter of the Association for Computational Linguistics: Human Language Technologies, Volume 2 (Short Papers). 2018.\n",
    "\n",
    "[5] Bojanowski, Piotr, et al. \"Enriching word vectors with subword information.\" Transactions of the association for computational linguistics 5 (2017): 135-146.\n",
    "\n",
    "[6] Hannigan, Geoffrey D., et al. \"A deep learning genome-mining strategy for biosynthetic gene cluster prediction.\" Nucleic acids research 47.18 (2019): e110-e110.\n",
    "\n",
    "[7] Kim, Yoon. Convolutional Neural Networks for Sentence Classification. New York University, 2014."
   ]
  }
 ],
 "metadata": {
  "kernelspec": {
   "display_name": "PLN",
   "language": "python",
   "name": "python3"
  },
  "language_info": {
   "codemirror_mode": {
    "name": "ipython",
    "version": 3
   },
   "file_extension": ".py",
   "mimetype": "text/x-python",
   "name": "python",
   "nbconvert_exporter": "python",
   "pygments_lexer": "ipython3",
   "version": "3.11.5"
  }
 },
 "nbformat": 4,
 "nbformat_minor": 2
}
