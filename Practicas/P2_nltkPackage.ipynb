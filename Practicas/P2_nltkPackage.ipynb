{
 "cells": [
  {
   "cell_type": "markdown",
   "metadata": {},
   "source": [
    "# Práctica 2: Aprendiendo NLTK\n",
    "Guillermo Segura Gómez\n",
    "\n",
    "El Procesamiento de Lenguaje Natural (PLN o NLP, por sus siglas en inglés) constituye una rama de la informática y la inteligencia artificial que se enfoca en la interacción entre las computadoras y el lenguaje humano. Esta disciplina abarca el estudio y desarrollo de algoritmos que permiten a las máquinas entender, interpretar y generar lenguaje humano de manera efectiva. \n",
    "\n",
    "El lenguaje humano es inherentemente complejo y dinámico, caracterizado por su constante evolución, su naturaleza generacional, contextual y la presencia de patrones complejos. Estas características representan desafíos significativos para su procesamiento computacional, lo que hace del PLN un campo fascinante y desafiante dentro de la investigación en inteligencia artificial.\n",
    "\n",
    "**NLTK (Natural Language Toolkit)** es una biblioteca de Python ampliamente reconocida y utilizada en el ámbito del PLN. Ofrece una diversidad de recursos como corpus textuales, léxicos y herramientas gramaticales, lo que la convierte en una herramienta esencial para quienes se inician en el procesamiento de lenguaje natural. A través de NLTK, los usuarios pueden acceder a una vasta colección de textos y datos lingüísticos, así como a funcionalidades específicas para el análisis lingüístico, lo que facilita la realización de tareas como la tokenización, el etiquetado gramatical, el análisis sintáctico, entre otros.\n",
    "\n",
    "Primero necesitamos importar la libreria **nltk**"
   ]
  },
  {
   "cell_type": "code",
   "execution_count": 1,
   "metadata": {},
   "outputs": [],
   "source": [
    "import nltk"
   ]
  },
  {
   "cell_type": "markdown",
   "metadata": {},
   "source": [
    "nltk posee una gran cantidad de herramientas a las que podemos acceder para procesar texto. Incluso ntlk ya contiene bastantes textos los cuales podemos utilizar para comenzar a procesar texto. Con el siguiente comando se pueden descargar estas herramientas, datasets, corpus, etc..."
   ]
  },
  {
   "cell_type": "code",
   "execution_count": 2,
   "metadata": {},
   "outputs": [
    {
     "name": "stdout",
     "output_type": "stream",
     "text": [
      "showing info https://raw.githubusercontent.com/nltk/nltk_data/gh-pages/index.xml\n",
      "showing info https://raw.githubusercontent.com/nltk/nltk_data/gh-pages/index.xml\n"
     ]
    },
    {
     "data": {
      "text/plain": [
       "True"
      ]
     },
     "execution_count": 2,
     "metadata": {},
     "output_type": "execute_result"
    }
   ],
   "source": [
    "nltk.download()"
   ]
  },
  {
   "cell_type": "code",
   "execution_count": 4,
   "metadata": {},
   "outputs": [
    {
     "name": "stdout",
     "output_type": "stream",
     "text": [
      "*** Introductory Examples for the NLTK Book ***\n",
      "Loading text1, ..., text9 and sent1, ..., sent9\n",
      "Type the name of the text or sentence to view it.\n",
      "Type: 'texts()' or 'sents()' to list the materials.\n",
      "text1: Moby Dick by Herman Melville 1851\n",
      "text2: Sense and Sensibility by Jane Austen 1811\n",
      "text3: The Book of Genesis\n",
      "text4: Inaugural Address Corpus\n",
      "text5: Chat Corpus\n",
      "text6: Monty Python and the Holy Grail\n",
      "text7: Wall Street Journal\n",
      "text8: Personals Corpus\n",
      "text9: The Man Who Was Thursday by G . K . Chesterton 1908\n"
     ]
    }
   ],
   "source": [
    "# Agrega tu ruta personalizada a la lista de rutas de búsqueda de NLTK\n",
    "nltk.data.path.append('/Users/guillermo_sego/anaconda3/nltk_data/')\n",
    "from nltk.book import *\n"
   ]
  },
  {
   "cell_type": "markdown",
   "metadata": {},
   "source": [
    "Una cosa importante a saber es lo que se conoce como **tokenización**. El término \"tokenizar\" se refiere al proceso de dividir un texto en unidades más pequeñas llamadas \"tokens\". Estos tokens pueden ser palabras, frases, símbolos o cualquier otro elemento que tenga significado en el lenguaje. La tokenización es uno de los primeros pasos en el análisis de texto y es fundamental para muchas tareas de PLN, ya que permite a los algoritmos trabajar con las unidades individuales del texto.\n",
    "\n",
    "Existen diferentes niveles y enfoques de tokenización, dependiendo de la tarea específica y del tipo de texto con el que se trabaje. Los más comunes incluyen:\n",
    "\n",
    "1. **Tokenización por palabras**: Este es el enfoque más básico y común, donde el texto se divide en palabras individuales. Los signos de puntuación suelen tratarse como tokens separados. Por ejemplo, la frase \"¡Hola, mundo!\" se tokenizaría en [\"¡Hola\", \",\", \"mundo\", \"!\"].\n",
    "\n",
    "2. **Tokenización por oraciones**: En este caso, el texto se divide en oraciones completas. Esto es útil para tareas que requieren entender el contexto o la estructura del texto a nivel de oración. Por ejemplo, el texto \"¡Hola, mundo! ¿Cómo estás?\" se dividiría en dos tokens: [\"¡Hola, mundo!\", \"¿Cómo estás?\"].\n",
    "\n",
    "3. **Tokenización por subpalabras o caracteres**: Para algunos idiomas o tareas específicas, puede ser útil dividir el texto en unidades más pequeñas que las palabras, como sílabas, subpalabras o incluso caracteres individuales. Esto es común en idiomas como el chino, donde no hay espacios claros entre las palabras, o en tareas como el modelado de lenguaje a nivel de carácter.\n",
    "\n",
    "La tokenización es crucial porque permite a los modelos de PLN tratar con componentes discretos del texto, facilitando el análisis sintáctico, la extracción de información, el modelado de temas, la traducción automática, y muchas otras tareas. La elección del método de tokenización adecuado depende de la naturaleza del texto y de los objetivos específicos del proyecto de PLN.\n",
    "\n",
    "Nótese que los texto importados estan tokenizados"
   ]
  },
  {
   "cell_type": "code",
   "execution_count": 22,
   "metadata": {},
   "outputs": [
    {
     "data": {
      "text/plain": [
       "['[', 'Moby', 'Dick', 'by', 'Herman']"
      ]
     },
     "execution_count": 22,
     "metadata": {},
     "output_type": "execute_result"
    }
   ],
   "source": [
    "text1[:5]"
   ]
  },
  {
   "cell_type": "markdown",
   "metadata": {},
   "source": [
    "La **concordancia** se refiere a la cantidad de veces que apareció la palabra dentro del texto. Podemos utilizar el comando de nltk ``concordance`` para buscar estas palabras en su contexto específico."
   ]
  },
  {
   "cell_type": "code",
   "execution_count": 13,
   "metadata": {},
   "outputs": [
    {
     "name": "stdout",
     "output_type": "stream",
     "text": [
      "Displaying 11 of 11 matches:\n",
      "ong the former , one was of a most monstrous size . ... This came towards us , \n",
      "ON OF THE PSALMS . \" Touching that monstrous bulk of the whale or ork we have r\n",
      "ll over with a heathenish array of monstrous clubs and spears . Some were thick\n",
      "d as you gazed , and wondered what monstrous cannibal and savage could ever hav\n",
      "that has survived the flood ; most monstrous and most mountainous ! That Himmal\n",
      "they might scout at Moby Dick as a monstrous fable , or still worse and more de\n",
      "th of Radney .'\" CHAPTER 55 Of the Monstrous Pictures of Whales . I shall ere l\n",
      "ing Scenes . In connexion with the monstrous pictures of whales , I am strongly\n",
      "ere to enter upon those still more monstrous stories of them which are to be fo\n",
      "ght have been rummaged out of this monstrous cabinet there is no telling . But \n",
      "of Whale - Bones ; for Whales of a monstrous size are oftentimes cast up dead u\n"
     ]
    }
   ],
   "source": [
    "text1.concordance(\"monstrous\")"
   ]
  },
  {
   "cell_type": "markdown",
   "metadata": {},
   "source": [
    "Podemos encontrar otras palabras que aparecieron en contextos similares utilizando el comando ``similar`` "
   ]
  },
  {
   "cell_type": "code",
   "execution_count": 15,
   "metadata": {},
   "outputs": [
    {
     "name": "stdout",
     "output_type": "stream",
     "text": [
      "true contemptible christian abundant few part mean careful puzzled\n",
      "mystifying passing curious loving wise doleful gamesome singular\n",
      "delightfully perilous fearless\n"
     ]
    }
   ],
   "source": [
    "text1.similar(\"monstrous\")"
   ]
  },
  {
   "cell_type": "code",
   "execution_count": 17,
   "metadata": {},
   "outputs": [
    {
     "name": "stdout",
     "output_type": "stream",
     "text": [
      "very so exceedingly heartily a as good great extremely remarkably\n",
      "sweet vast amazingly\n"
     ]
    }
   ],
   "source": [
    "text2.similar(\"monstrous\")"
   ]
  },
  {
   "cell_type": "markdown",
   "metadata": {},
   "source": [
    "El texto 1 y el texto 2 utilizan la palabra **monstrous** en diferentes contextos. El texto 2 utiliza mas en contextos positivos y para intensificar. \n",
    "\n",
    "El término ``common_contexts`` permite examinar el contexto compartido de dos o mas palabras."
   ]
  },
  {
   "cell_type": "code",
   "execution_count": 21,
   "metadata": {},
   "outputs": [
    {
     "name": "stdout",
     "output_type": "stream",
     "text": [
      "most_and\n"
     ]
    }
   ],
   "source": [
    "text1.common_contexts([\"monstrous\", \"careful\"])"
   ]
  },
  {
   "cell_type": "code",
   "execution_count": 23,
   "metadata": {},
   "outputs": [
    {
     "data": {
      "image/png": "[encoded data removed]",
      "text/plain": [
       "<Figure size 640x480 with 1 Axes>"
      ]
     },
     "metadata": {},
     "output_type": "display_data"
    }
   ],
   "source": [
    "text4.dispersion_plot([\"citizens\", \"democracy\", \"freedom\", \"duties\", \"America\"])"
   ]
  },
  {
   "cell_type": "code",
   "execution_count": null,
   "metadata": {},
   "outputs": [],
   "source": []
  }
 ],
 "metadata": {
  "kernelspec": {
   "display_name": "PLN",
   "language": "python",
   "name": "python3"
  },
  "language_info": {
   "codemirror_mode": {
    "name": "ipython",
    "version": 3
   },
   "file_extension": ".py",
   "mimetype": "text/x-python",
   "name": "python",
   "nbconvert_exporter": "python",
   "pygments_lexer": "ipython3",
   "version": "3.11.5"
  }
 },
 "nbformat": 4,
 "nbformat_minor": 2
}
