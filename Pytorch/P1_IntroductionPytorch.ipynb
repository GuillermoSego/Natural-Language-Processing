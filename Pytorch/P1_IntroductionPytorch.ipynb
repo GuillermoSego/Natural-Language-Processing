{
 "cells": [
  {
   "cell_type": "markdown",
   "metadata": {},
   "source": [
    "# Introducción a Pythorc\n",
    "Guillermo Segura Gómez\n",
    "\n",
    "PyTorch es una biblioteca de aprendizaje profundo y computación científica de código abierto, desarrollada principalmente por Facebook's AI Research lab (FAIR). PyTorch es conocido por su facilidad de uso, eficiencia y flexibilidad, especialmente en la investigación y el desarrollo de modelos de aprendizaje profundo.\n",
    "\n",
    "### Usos Principales de PyTorch:\n",
    "\n",
    "1. **Aprendizaje profundo**: PyTorch proporciona herramientas y módulos integrales para construir y entrenar todo tipo de redes neuronales, desde las más sencillas hasta las más complejas, como las redes neuronales convolucionales (CNNs), las redes neuronales recurrentes (RNNs), y los transformadores. Es ampliamente utilizado tanto en la investigación académica como en la industria para aplicaciones que van desde el procesamiento del lenguaje natural (NLP) y la visión por computadora hasta la inteligencia artificial generativa y más allá.\n",
    "\n",
    "2. **Computación tensorial**: Al igual que TensorFlow, PyTorch se centra en la computación con tensores. Un tensor en PyTorch es similar a un ndarray de NumPy, pero con el poder adicional de trabajar en GPUs, lo que acelera significativamente las operaciones de cálculo numérico necesarias para el entrenamiento de redes neuronales.\n",
    "\n",
    "3. **Autograd**: PyTorch incluye una característica poderosa llamada \"Autograd\" que automatiza el cálculo de gradientes. Esto es esencial para el entrenamiento de redes neuronales, ya que el algoritmo de backpropagation requiere la derivada de la función de pérdida con respecto a cada parámetro. Autograd hace que la implementación de modelos de aprendizaje profundo sea más directa y menos propensa a errores.\n",
    "\n",
    "4. **Investigación y Prototipado Rápidos**: PyTorch es especialmente popular entre los investigadores debido a su flexibilidad y simplicidad, lo que facilita la experimentación y el prototipado de nuevos modelos y técnicas de aprendizaje profundo.\n",
    "\n",
    "5. **Comunidad y Ecosistema**: PyTorch cuenta con una amplia y activa comunidad de desarrolladores y científicos de datos, lo que se traduce en un gran número de tutoriales, documentación, y proyectos de código abierto disponibles. Esto hace que aprender y trabajar con PyTorch sea más accesible para principiantes y profesionales por igual.\n",
    "\n",
    "### Ejemplo de PyTorch en Acción\n",
    "\n",
    "Aquí hay un ejemplo muy simplificado de cómo se vería un flujo de trabajo típico en PyTorch:\n",
    "\n",
    "```python\n",
    "import torch\n",
    "import torch.nn as nn\n",
    "import torch.optim as optim\n",
    "\n",
    "# Definir un modelo simple\n",
    "class SimpleNN(nn.Module):\n",
    "    def __init__(self):\n",
    "        super(SimpleNN, self).__init__()\n",
    "        self.linear = nn.Linear(in_features=10, out_features=1)\n",
    "\n",
    "    def forward(self, x):\n",
    "        return self.linear(x)\n",
    "\n",
    "# Crear una instancia del modelo, definir una función de pérdida y un optimizador\n",
    "model = SimpleNN()\n",
    "loss_function = nn.MSELoss()\n",
    "optimizer = optim.SGD(model.parameters(), lr=0.01)\n",
    "\n",
    "# Datos de ejemplo\n",
    "input_tensor = torch.randn(5, 10)  # 5 ejemplos, cada uno con 10 características\n",
    "target = torch.randn(5, 1)  # 5 objetivos\n",
    "\n",
    "# Ciclo de entrenamiento simplificado\n",
    "for _ in range(1000):  # 1000 iteraciones de entrenamiento\n",
    "    optimizer.zero_grad()  # Limpiar los gradientes\n",
    "    output = model(input_tensor)  # Pasar los datos a través del modelo\n",
    "    loss = loss_function(output, target)  # Calcular la pérdida\n",
    "    loss.backward()  # Backpropagation\n",
    "    optimizer.step()  # Actualizar los pesos del modelo\n",
    "```\n",
    "\n",
    "Este ejemplo ilustra cómo se define un modelo simple, cómo se configuran la función de pérdida y el optimizador, y cómo se ejecuta un ciclo de entrenamiento básico. Es un punto de partida para adentrarse más en el aprendizaje profundo y la amplia gama de funcionalidades que ofrece PyTorch.\n"
   ]
  },
  {
   "cell_type": "code",
   "execution_count": null,
   "metadata": {},
   "outputs": [],
   "source": []
  }
 ],
 "metadata": {
  "language_info": {
   "name": "python"
  }
 },
 "nbformat": 4,
 "nbformat_minor": 2
}
