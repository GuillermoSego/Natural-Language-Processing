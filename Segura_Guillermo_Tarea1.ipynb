{
 "cells": [
  {
   "cell_type": "markdown",
   "metadata": {},
   "source": [
    "# Tarea 1. Python\n",
    "Guillermo Segura Gómez\n",
    "\n",
    "## Construcción de un corpus\n",
    "\n",
    "Utilice Python para construir el corpus de Práctica 1: Python y Talacha; construyelo con la mayor cantidad de conferencias a la fecha. El objetivo es llegar a un corpus similar al que se muestra en clase de conferencias seudo limpias en texto. Siéntase libre de usar el mismo código de las prácticas y NLTK, o bien su propio código y cualquier otra librería de Python.\n",
    "\n",
    "Nota: Exclusivamente en este punto, SOLO proporcionar la liga a su carpeta GDrive con estos datos. No escribir en el Notebook las instrucciones para conseguir el corpus, solo poner en una celda la liga a su GDrive, además de ponerla en el Classroom al subir la tarea."
   ]
  },
  {
   "cell_type": "markdown",
   "metadata": {},
   "source": [
    "Liga de classroom donde se encuentra el corpus:\n",
    "\n",
    "https://drive.google.com/drive/folders/1vJqRNCX8uErTd5_n8wozf4x9i7vjmEhO?usp=sharing"
   ]
  },
  {
   "cell_type": "markdown",
   "metadata": {},
   "source": [
    "## Vistazo a los datos\n",
    "\n",
    "Utilice funciones básicas de Python para hacer lo siguiente:\n",
    "#### 1. Cargue todas las conferencias en un string y aplique la función split para generar tokens fácilmente.\n",
    "\n",
    "---\n",
    "\n",
    "Para cargar todas las conferencias utilizamos un ciclo for que itera sobre el total de páginas descargadas. Dentro del ciclo se abre el contenido y se guarda en un string. Para tokenizar utilizamos la función ``split`` en una **list comprenhension**. Luego utilizamos el hecho de que si se suman las listas en python en realidad se estan concatenando. Guardamos las listas en un arreglo llamado **contenido_completo**."
   ]
  },
  {
   "cell_type": "code",
   "execution_count": 1,
   "metadata": {},
   "outputs": [],
   "source": [
    "import glob\n",
    "\n",
    "# Lista con el contenido completo tokenizado\n",
    "tokens_completo = []\n",
    "contenido_completo = []\n",
    "\n",
    "# Iteramos sobre los archivos en la carpeta especificada\n",
    "for paginas in glob.glob(\"/Users/guillermo_sego/Desktop/Segundo Semestre/PLN/MorningData/*\"):\n",
    "    # Abrimos los archivos\n",
    "    with open(paginas, \"r\", encoding=\"utf-8\") as file:\n",
    "        # Se lee el contenido del archivo y se guarda en un string\n",
    "        contenido = file.read()\n",
    "        contenido_completo.append(contenido)\n",
    "        # List comprenhension para guardar la lista tokenizada\n",
    "        tokens = [token for token in contenido.split(\" \")]\n",
    "        # Se agrega a la lista final\n",
    "        tokens_completo += tokens\n",
    "\n",
    "# Unimos todo el contenido en un solo string al final\n",
    "contenido_completo_str = ' '.join(contenido_completo)\n"
   ]
  },
  {
   "cell_type": "markdown",
   "metadata": {},
   "source": [
    "#### 2. Contar la cantidad de palabras en todas las conferencias.\n",
    "\n",
    "---\n",
    "\n",
    "Utilizamos la función ``len``"
   ]
  },
  {
   "cell_type": "code",
   "execution_count": 2,
   "metadata": {},
   "outputs": [
    {
     "name": "stdout",
     "output_type": "stream",
     "text": [
      "La cantidad total de palabras es igual a: 13334143\n"
     ]
    }
   ],
   "source": [
    "print(\"La cantidad total de palabras es igual a: \" + str(len(tokens_completo)))"
   ]
  },
  {
   "cell_type": "markdown",
   "metadata": {},
   "source": [
    "#### 3. Extraer el vocabulario y mostrar su longitud de todo el corpus.\n",
    "\n",
    "---\n",
    "\n",
    "Para extraer el vocabulario lo que se tiene que hacer es convertir la lista en un conjunto en python utilizando la función ``set``. La función ``set`` permite identificar los elementos únicos descartando los elementos repetidos."
   ]
  },
  {
   "cell_type": "code",
   "execution_count": 3,
   "metadata": {},
   "outputs": [
    {
     "name": "stdout",
     "output_type": "stream",
     "text": [
      "La longitud del vocabulario es: 435337\n"
     ]
    }
   ],
   "source": [
    "vocabulary = set(tokens_completo)\n",
    "print(\"La longitud del vocabulario es: \" + str(len(vocabulary)))"
   ]
  },
  {
   "cell_type": "markdown",
   "metadata": {},
   "source": [
    "#### 4. Mida la riqueza del vocabulario de alguna forma en todos los documentos.\n",
    "\n",
    "---\n",
    "\n",
    "Para medir la riqueza del vocabulario podemos calcular la relación entre el número de palabras únicas y el número de palabras totales. Esto es la ``lexical_diversity`` asociado con un texto, que es básicamente el tamaño del vocabulario dividido por el número total de palabras (tokens) en el texto. Es una buena medida de la diversidad ya que te indica la cantidad de palabras que aparecen en un texto. [1]\n",
    "\n",
    "Como ya tenemos en un string el contenido de todos los textos. Esto se hace simplemente diviendo la longitud del vocabulario entre la longitud del contenido completo."
   ]
  },
  {
   "cell_type": "code",
   "execution_count": 4,
   "metadata": {},
   "outputs": [
    {
     "name": "stdout",
     "output_type": "stream",
     "text": [
      "Lexical Diversity: 0.03264829243244204\n",
      "Percentage: 3.264829243244204\n"
     ]
    }
   ],
   "source": [
    "lexical_diversity = len(vocabulary) / len(tokens_completo)\n",
    "print(\"Lexical Diversity:\", lexical_diversity)\n",
    "print(\"Percentage: \" + str(lexical_diversity*100) )"
   ]
  },
  {
   "cell_type": "markdown",
   "metadata": {},
   "source": [
    "#### 5. Haga lo mismo que los 4 puntos anteriores pero con todo el texto en minúsculas. \n",
    "Vea las diferencias y comente brevemente (sino comentas habrá penalización).\n",
    "\n",
    "---\n",
    "\n",
    "Para poder hacer esto necesitamos primero convertir todos los elementos de la lista **contenido_completo** a minúsculas. Es necesario construir una nueva lista. Podemos hacerlo fácilmente utilizando una **list comprenhension**."
   ]
  },
  {
   "cell_type": "code",
   "execution_count": 5,
   "metadata": {},
   "outputs": [
    {
     "name": "stdout",
     "output_type": "stream",
     "text": [
      "La cantidad total de palabras en minúsculas es igual a: 13334143\n"
     ]
    }
   ],
   "source": [
    "# Utilizamos una list comprenhension para convertir cada string a minúsculas\n",
    "tokens_completo_lower = [texto.lower() for texto in tokens_completo]\n",
    "print(\"La cantidad total de palabras en minúsculas es igual a: \" + str(len(tokens_completo_lower)))"
   ]
  },
  {
   "cell_type": "markdown",
   "metadata": {},
   "source": [
    "Después de convertir las palabras a minúsuclas, siguen siendo la misma cantidad de palabras. Ahora el vocabulario en minúsculas."
   ]
  },
  {
   "cell_type": "code",
   "execution_count": 6,
   "metadata": {},
   "outputs": [
    {
     "name": "stdout",
     "output_type": "stream",
     "text": [
      "La longitud del vocabulario en minúsuclas es: 416241\n"
     ]
    }
   ],
   "source": [
    "vocabulary_lower = set(tokens_completo_lower)\n",
    "print(\"La longitud del vocabulario en minúsuclas es: \" + str(len(vocabulary_lower)))"
   ]
  },
  {
   "cell_type": "markdown",
   "metadata": {},
   "source": [
    "La longitud de vocabulario en minúsuclas es menor al que tenía el vocabulario sin normalizar (convertir a minúsculas). Esto nos indica que la medición que realizamos en los puntos anteriores no tenia en cuenta la diferencia que existe entre carácteres en mayúsculas y minúsculas, pudiendo tener que en nuestro vocabulario se tenía como palabras distintas *De*, *de*, *DE*. En el momento en el que se convirtió todo a minúsculas esa ambigüedad se perdió, reduciendo la longitud del vocabulario. "
   ]
  },
  {
   "cell_type": "code",
   "execution_count": 7,
   "metadata": {},
   "outputs": [
    {
     "name": "stdout",
     "output_type": "stream",
     "text": [
      "Lexical Diversity: 0.031216179397506087\n",
      "Percentage: 3.1216179397506085\n"
     ]
    }
   ],
   "source": [
    "lexical_diversity = len(vocabulary_lower) / len(tokens_completo_lower)\n",
    "print(\"Lexical Diversity:\", lexical_diversity)\n",
    "print(\"Percentage: \" + str(lexical_diversity*100) )"
   ]
  },
  {
   "cell_type": "markdown",
   "metadata": {},
   "source": [
    "Debido a que disminuyó la cantidad de palabras en el vocabulario y el total sigue siendo el mismo, la diversidad léxica disminuyó, dándonos una medida mas acertada.\n",
    "\n",
    "#### 6. Haga lo mismo que los puntos 1, 2 y 3 usando el tokenizador RegExp de NLTK.\n",
    "Utilice una expresión regular que trate de sacar solo tokens que pueden contener solo letras mayúsculas y minúsculas. Después cargue los tokens en un objeto Text de NLTK en lugar de una lista de Python.\n",
    "\n",
    "---\n",
    "\n",
    "Para lograr esto es necesario primero importar la libreria **nltk**, asi como las funciones *RegexpTokenizer* y *Text*. Utilizamos una expresión regular únicamente para mayúsculas y minúsculas, esto va generar errores si tenemos signos de puntuación, como acentos o guiones. Finalmente tokenizamos y cargamos el texto en un objeto Text de nltk."
   ]
  },
  {
   "cell_type": "code",
   "execution_count": 8,
   "metadata": {},
   "outputs": [],
   "source": [
    "import nltk\n",
    "from nltk.tokenize import RegexpTokenizer\n",
    "from nltk.text import Text"
   ]
  },
  {
   "cell_type": "code",
   "execution_count": 9,
   "metadata": {},
   "outputs": [],
   "source": [
    "# Expresión regular para palabras con letras mayúsculas y minúsculas\n",
    "regexp = r'[A-Za-z]+'\n",
    "\n",
    "# Tokenizador\n",
    "tokenizer = RegexpTokenizer(regexp)\n",
    "\n",
    "# Tokenizamos el texto\n",
    "tokens_nltk = tokenizer.tokenize(contenido_completo_str)\n",
    "\n",
    "# Carga los tokens en un objeto Text de nltk\n",
    "texto_nltk = Text(tokens_nltk)\n"
   ]
  },
  {
   "cell_type": "markdown",
   "metadata": {},
   "source": [
    "Una vez con el texto en un objeto nlkt con el cual podemos trabajar, hacemos los puntos 1, 2 y 3."
   ]
  },
  {
   "cell_type": "code",
   "execution_count": 10,
   "metadata": {},
   "outputs": [
    {
     "name": "stdout",
     "output_type": "stream",
     "text": [
      "La cantidad total de palabras es igual a: 14860417\n"
     ]
    }
   ],
   "source": [
    "print(\"La cantidad total de palabras es igual a: \" + str(len(texto_nltk)))"
   ]
  },
  {
   "cell_type": "code",
   "execution_count": 11,
   "metadata": {},
   "outputs": [
    {
     "name": "stdout",
     "output_type": "stream",
     "text": [
      "La longitud del vocabulario es: 88224\n"
     ]
    }
   ],
   "source": [
    "vocabulary_nlkt = set(texto_nltk)\n",
    "print(\"La longitud del vocabulario es: \" + str(len(vocabulary_nlkt)))"
   ]
  },
  {
   "cell_type": "code",
   "execution_count": 12,
   "metadata": {},
   "outputs": [
    {
     "name": "stdout",
     "output_type": "stream",
     "text": [
      "Lexical Diversity: 0.0059368455138237375\n",
      "Percentage: 0.5936845513823737\n"
     ]
    }
   ],
   "source": [
    "lexical_diversity = len(vocabulary_nlkt) / len(texto_nltk)\n",
    "print(\"Lexical Diversity:\", lexical_diversity)\n",
    "print(\"Percentage: \" + str(lexical_diversity*100) )"
   ]
  },
  {
   "cell_type": "markdown",
   "metadata": {},
   "source": [
    "La diversidad es mucho menor utilizando el tokenizador **RegExp**. La cantidad de tokens en el texto completo es relativamente del mismo orden que la que encontramos en el punto 2. Sin embargo al momento de contar el vocabulario, éste es mucho menor que el encontrado en el apartado 3. Esto podría estar relacionado en como estamos filtrando la información. El uso de ``RegexpTokenizer`` puede resultar en un vocabulario más \"limpio\" pero menos diverso, ya que muchas variaciones y formas de palabras quedan excluidas."
   ]
  },
  {
   "cell_type": "markdown",
   "metadata": {},
   "source": [
    "#### 7. Haga todo el texto minúsculas. Haga los mismo que los puntos 1, 2, y 3 \n",
    "\n",
    "Utilizando el tokenizador *TweetTokenizer* ; COMENTE BREVEMENTE DIFERENCIAS. Haga el resto de esta tarea asumiendo haber hecho este punto.\n",
    "\n",
    "---\n",
    "\n",
    "Primero necesitamos importar el tokenizador *TweetTokenizer*, para posteriormente trabajar con todo el texto en minúsculas. "
   ]
  },
  {
   "cell_type": "code",
   "execution_count": 13,
   "metadata": {},
   "outputs": [],
   "source": [
    "from nltk.tokenize import TweetTokenizer"
   ]
  },
  {
   "cell_type": "code",
   "execution_count": 14,
   "metadata": {},
   "outputs": [],
   "source": [
    "contenido_completo_lower_str = contenido_completo_str.lower()\n",
    "\n",
    "# Inicializar el TweetTokenizer\n",
    "tweet_tokenizer = TweetTokenizer()\n",
    "\n",
    "# Tokenizar\n",
    "tokens_tweet = tweet_tokenizer.tokenize(contenido_completo_lower_str)\n",
    "\n",
    "# Transformamos en text\n",
    "texto_tweet = Text(tokens_tweet)"
   ]
  },
  {
   "cell_type": "markdown",
   "metadata": {},
   "source": [
    "Ahora hacemos el mismo procedimiento que hemos estado haciendo."
   ]
  },
  {
   "cell_type": "code",
   "execution_count": 15,
   "metadata": {},
   "outputs": [
    {
     "name": "stdout",
     "output_type": "stream",
     "text": [
      "La cantidad total de palabras es igual a: 15981392\n"
     ]
    }
   ],
   "source": [
    "print(\"La cantidad total de palabras es igual a: \" + str(len(tokens_tweet)))"
   ]
  },
  {
   "cell_type": "code",
   "execution_count": 16,
   "metadata": {},
   "outputs": [
    {
     "name": "stdout",
     "output_type": "stream",
     "text": [
      "La longitud del vocabulario es: 91316\n"
     ]
    }
   ],
   "source": [
    "vocabulary_tweet = set(tokens_tweet)\n",
    "print(\"La longitud del vocabulario es: \" + str(len(vocabulary_tweet)))"
   ]
  },
  {
   "cell_type": "code",
   "execution_count": 17,
   "metadata": {},
   "outputs": [
    {
     "name": "stdout",
     "output_type": "stream",
     "text": [
      "Lexical Diversity: 0.005713895260187598\n",
      "Percentage: 0.5713895260187598\n"
     ]
    }
   ],
   "source": [
    "lexical_diversity = len(vocabulary_tweet) / len(tokens_tweet)\n",
    "print(\"Lexical Diversity:\", lexical_diversity)\n",
    "print(\"Percentage: \" + str(lexical_diversity*100) )"
   ]
  },
  {
   "cell_type": "markdown",
   "metadata": {},
   "source": [
    "La diversidad léxica es ligeramente inferior pero del mismo orden que la obtenida en el punto anterior. Esto nos indica que puede haber un error en el método por espacios que se utilizó para tokenizar, ya que dos métodos probaron obtener una diversidad léxica bastante inferior. El tokenizador tweet no dependió de una expresión regular y encontró un vocabulario mayor. Sin embargo fue menor en diversidad léxica debido a que la cantidad total de tokens que encontró también fue mucho mayor. \n",
    "\n",
    "## Funciones NLTK\n",
    "\n",
    "#### 1. Use la función *concordance* para ver el contexto de 5 palabras que usted elija.\n",
    "\n",
    "---\n",
    "\n",
    "Vamos a utilizar el objeto nltk construido en el punto 7 de la sección anterior. En este objeto utilizamos el tokenizador tweet. "
   ]
  },
  {
   "cell_type": "code",
   "execution_count": 18,
   "metadata": {},
   "outputs": [
    {
     "name": "stdout",
     "output_type": "stream",
     "text": [
      "Displaying 25 of 1931 matches:\n",
      "na . fue una gasolinera en león , guanajuato , servicios hermanos aldama ; tam\n",
      " en veracruz , y en oaxaca , y en guanajuato . un ejemplo , gas lux , en zacat\n",
      " pues en cinco , porque estuve en guanajuato , en hidalgo y en tamaulipas , ci\n",
      " . ricardo sheffield padilla : de guanajuato . zamarripa . presidente andrés m\n",
      " de conservadores en el estado de guanajuato lo asesinaron , como también otra\n",
      " , michoacán , sinaloa , oaxaca , guanajuato y yucatán en el mismo sentido con\n",
      "tenemos más brotes de violencia : guanajuato , tamaulipas , jalisco , michoacá\n",
      "arco antonio hernández carrillo a guanajuato . la doctora maría guadalupe del \n",
      "se pretendía llevar agua a león , guanajuato , y por eso lo del acueducto , qu\n",
      "rovidencia en san josé iturbide , guanajuato , también está dando por abajo de\n",
      " homicidios dolosos , ellos son : guanajuato , michoacán , baja california , e\n",
      "a de las víctimas de homicidio en guanajuato en donde aquí en el último mes se\n",
      " . el día 11 de julio en celaya , guanajuato , se detuvo a una persona por par\n",
      "ron de los estados de sonora , de guanajuato , tenían la esperanza de entregar\n",
      "o el ciudad de méxico-querétaro a guanajuato , desde luego san luis , que siem\n",
      "atender jalisco y colima . la 2 , guanajuato y zacate . la 3 , tamaulipas y co\n",
      "io . sesenta y ocho . chihuahua , guanajuato y el estado de méxico , 18 por ci\n",
      ", en michoacán , en guerrero y en guanajuato , como es distribuidora de gas de\n",
      "estado de méxico , en oaxaca , en guanajuato y en chihuahua , que dan por abaj\n",
      "evo completamente , en el caso de guanajuato , en un recuento sindical no ganó\n",
      "n bajó muy poco en los estados de guanajuato y de jalisco , lo cual ha hecho q\n",
      " , y , ¡ oh ! , sorpresa , fue en guanajuato la misa , y su intervención , per\n",
      " sólo la de él , la del obispo de guanajuato , fue una homilía , fue una inter\n",
      "za . ¿ qué , no pudo el pueblo de guanajuato o el pueblo de méxico pedir o exi\n",
      "guelatao . municipio de atarjea , guanajuato . fortalecimiento de la infraestr\n"
     ]
    }
   ],
   "source": [
    "texto_tweet.concordance(\"Guanajuato\")"
   ]
  },
  {
   "cell_type": "code",
   "execution_count": 19,
   "metadata": {},
   "outputs": [
    {
     "name": "stdout",
     "output_type": "stream",
     "text": [
      "Displaying 25 of 1292 matches:\n",
      "enores implicadas en el trasiego de drogas , dos mil 600 litros de combustible\n",
      "anera , los sobrantes de diferentes drogas que producen , los mezclan y se gen\n",
      "tenemos que bajar el consumo de las drogas , porque ha crecido y está creciend\n",
      "cido y está creciendo el consumo de drogas que son fatales , terribles , que d\n",
      "tención a los jóvenes , el no a las drogas ; pero dar opciones , dar alternati\n",
      "emás decir por qué no , por qué las drogas destruyen , explicar el daño que oc\n",
      "el consumo del cristal y de ciertas drogas . no se habla de eso , con todo res\n",
      "óvenes , que se hable más sobre las drogas , que se sigan abriendo opciones pa\n",
      "anza , logrando el aseguramiento de drogas , armas y diferentes sustancias ilí\n",
      " aquí una muestra de lo asegurado : drogas , armas , teléfonos , entre otros i\n",
      "s , cartuchos , chalecos tácticos y drogas . este fue el evento de san josé de\n",
      "trabaja , ni ha trabajado , consume drogas , ha declarado que obtiene recursos\n",
      "diseñar y replantear la política de drogas . mi pregunta sería : ¿ de qué va e\n",
      "os narcotraficantes y el tráfico de drogas . presidente andrés manuel lópez ob\n",
      "periencia en el daño que causan las drogas y han hecho planes y saben qué es l\n",
      "esto no sólo por la cuestión de las drogas , sino fundamentalmente para dar op\n",
      "a no se hace nada para combatir las drogas y evitar que lleguen a estados unid\n",
      "rios de incremento en el consumo de drogas , en jóvenes . en buenavista hablé \n",
      "na o algunos de los productos o las drogas , han tenido menos demanda en el me\n",
      "ido para la producción y consumo de drogas más letales , pero también con mayo\n",
      "droga por esa facilidad de producir drogas sintéticas . aquí vemos las hectáre\n",
      "lo que es el fentanilo , una de las drogas más letales que se tienen . en los \n",
      "han ido tendientes a detectar estas drogas tanto en la producción , en los lab\n",
      "os todos los rubros , los rubros en drogas que mayor daño hacen a la población\n",
      "rente en entrar a este mundo de las drogas oficialmente para beneficiarse econ\n"
     ]
    }
   ],
   "source": [
    "texto_tweet.concordance(\"drogas\")"
   ]
  },
  {
   "cell_type": "code",
   "execution_count": 20,
   "metadata": {},
   "outputs": [
    {
     "name": "stdout",
     "output_type": "stream",
     "text": [
      "Displaying 25 of 12784 matches:\n",
      " , además de la lucha por la paz y seguridad internacionales , lineamientos hoy\n",
      "arcía luna estaba de secretario de seguridad pública . entonces , de acuerdo a \n",
      "d nacional . es un asunto hasta de seguridad nacional , tiene que ver con la pr\n",
      "hablaron esta mañana en la mesa de seguridad ? presidente andrés manuel lópez o\n",
      "ctividad de las comunidades y dará seguridad en el cruce de vehículos y tren . \n",
      "s , acuerda estos espacios para la seguridad espacial , pero dice que méxico no\n",
      "re el apoyo de estos organismos de seguridad como la dea y el fbi , que iban a \n",
      "ngton los miembros del gabinete de seguridad de méxico con sus homólogos del go\n",
      "untos de cooperación en materia de seguridad . intervención : el gobernador ( i\n",
      "n en buen estado las escuelas , la seguridad , que no se nos salga de control l\n",
      "creo que en segundo o en tercero , seguridad . ¿ no tienes por ahí la última en\n",
      " , por favor ― tenemos sistemas de seguridad y sistemas de monitoreo y control \n",
      "lgunos faltantes , ajustes , no en seguridad , no en lo fundamental , sino que \n",
      "acabamos de terminar la reunión de seguridad que se llevó a cabo para revisar l\n",
      "r un reporte sobre la situación de seguridad . conferencia de prensa matutina ,\n",
      "o . las estrategias coordinadas de seguridad entre las autoridades locales con \n",
      "ticular para la comarca lagunera : seguridad y agua ; pero hay muchos otros tem\n",
      "ntegrantes del gabinete federal de seguridad . muchas gracias por el respaldo q\n",
      "dinadas por el señor secretario de seguridad pública del gobierno federal , del\n",
      "egión , empezando por los temas de seguridad , los temas de movilidad , los tem\n",
      "entó hace pocos años una crisis de seguridad que impactó fuertemente en toda la\n",
      "do para mantener , para mejorar la seguridad en nuestra entidad . tal y como lo\n",
      "s hace un momento en la reunión de seguridad , hoy nuestros estados son los de \n",
      "s datos de la propia secretaría de seguridad pública y protección ciudadana del\n",
      "ien de los duranguenses . tenga la seguridad que en durango siempre encontrará \n"
     ]
    }
   ],
   "source": [
    "texto_tweet.concordance(\"seguridad\")"
   ]
  },
  {
   "cell_type": "code",
   "execution_count": 21,
   "metadata": {},
   "outputs": [
    {
     "name": "stdout",
     "output_type": "stream",
     "text": [
      "Displaying 25 of 3673 matches:\n",
      "para intubar a pacientes críticos de covid - 19 . el señor darío celis asegura \n",
      "o inapam infonavit información sobre covid - 19 instituto de salud para el bien\n",
      "cto tren maya registro vacuna contra covid - 19 sembrando vida trabajadoras del\n",
      "s uno de los estados que más pruebas covid aplica per cápita y somos también el\n",
      "acto en lo general . la pandemia del covid - 19 nos ha impuesto nuevos retos . \n",
      "e de manera temporal - como hospital covid y dirigido por nuestro ejército mexi\n",
      "té operando para atender enfermos de covid el hospital de gómez palacio porque \n",
      " o los hospitales , que ahora por el covid a marchas forzadas estamos equipando\n",
      "o inapam infonavit información sobre covid - 19 instituto de salud para el bien\n",
      "cto tren maya registro vacuna contra covid - 19 sembrando vida trabajadoras del\n",
      "o inapam infonavit información sobre covid - 19 instituto de salud para el bien\n",
      "cto tren maya registro vacuna contra covid - 19 sembrando vida trabajadoras del\n",
      "reve comentando sobre la epidemia de covid - 19 . tres meses ya , tres meses co\n",
      "iesgo aumentado de complicaciones de covid . vacúnense contra la influenza . gr\n",
      "emergencia sanitaria con respecto al covid , se transportaron seis millones de \n",
      "e los que han perdido la vida por el covid , en la semana que viene y la próxim\n",
      "idente , ante el incremento de casos covid a nivel nacional , de acuerdo a lo d\n",
      "estión de la emisión de los permisos covid ? , que también ha sido algo a lo qu\n",
      "o inapam infonavit información sobre covid - 19 instituto de salud para el bien\n",
      "cto tren maya registro vacuna contra covid - 19 sembrando vida trabajadoras del\n",
      "ervicios de salud por la pandemia de covid - 19 ; lo mismo han hecho otros gobi\n",
      "ito , pues yo creo que debe de tener covid , pero leve y decidió estar fuera . \n",
      "tiene el segundo lugar en vacunación covid . contra el covid - 19 tlaxcala dio \n",
      "ugar en vacunación covid . contra el covid - 19 tlaxcala dio ejemplo . fuimos d\n",
      "o inapam infonavit información sobre covid - 19 instituto de salud para el bien\n"
     ]
    }
   ],
   "source": [
    "texto_tweet.concordance(\"covid\")"
   ]
  },
  {
   "cell_type": "code",
   "execution_count": 22,
   "metadata": {},
   "outputs": [
    {
     "name": "stdout",
     "output_type": "stream",
     "text": [
      "Displaying 25 of 2774 matches:\n",
      " gonzález , el expresidente felipe calderón y la coparmex han reproducido este\n",
      "ejero de iberdrola al expresidente calderón . eso no sucede en ningún país del\n",
      "sto lo hacen en la época de felipe calderón , cuando garcía luna estaba de sec\n",
      "mento fue en el gobierno de felipe calderón , y como todas esas se las colgaba\n",
      " de lópez-dóriga , y de fox , y de calderón , y de salinas , y los de arriba ,\n",
      "ue vinculen al expresidente felipe calderón con estos vínculos con joaquín guz\n",
      "ano derecha . interlocutora : ¿ de calderón ? presidente andrés manuel lópez o\n",
      "te andrés manuel lópez obrador : a calderón , sí , a calderón , porque sí estu\n",
      "ópez obrador : a calderón , sí , a calderón , porque sí estuvo con fox , pero \n",
      "marnos . también alejandro antonio calderón alipi , doctor alejandro calderón \n",
      " calderón alipi , doctor alejandro calderón alipi es el responsable de que no \n",
      "está el doctor ? alejandro antonio calderón alipi , titular designado de la co\n",
      " cargos , son encargos . alejandro calderón alipi , para que no falten los med\n",
      "ba , pero digo … alejandro antonio calderón alipi : nos comentaba , presidente\n",
      " qué otro país . alejandro antonio calderón alipi : bueno , los medicamentos e\n",
      "era familiares … alejandro antonio calderón alipi : yo me comuniqué con los pa\n",
      "blema de nadie … alejandro antonio calderón alipi : no me solicitó el medicame\n",
      "taban llorando … alejandro antonio calderón alipi : sí yo lo sé , yo hablé con\n",
      " este problema ? alejandro antonio calderón alipi acá está la sensibilidad , y\n",
      " el doctor arturo daniel bonilla y calderón a chihuahua . el doctor francisco \n",
      "claren la guerra al narcotráfico ? calderón . yo recuerdo que cuando mi desafu\n",
      " , pues , la adquisición . la hizo calderón , ¿ eh ? porque le echan la culpa \n",
      " , pero el que compró el avión fue calderón . pregunta : ( inaudible ) preside\n",
      "mbién que hicieron en el tiempo de calderón , en sinaloa , se llama playa espí\n",
      "e se hicieron desde el gobierno de calderón y más con el gobierno de peña niet\n"
     ]
    }
   ],
   "source": [
    "texto_tweet.concordance(\"calderón\")"
   ]
  },
  {
   "cell_type": "code",
   "execution_count": 23,
   "metadata": {},
   "outputs": [
    {
     "name": "stdout",
     "output_type": "stream",
     "text": [
      "Displaying 6 of 6 matches:\n",
      "y talentoso grupo de matemáticos del cimat y del instituto de matemáticas de la\n",
      "icas recrea , en el que participa el cimat , el centro de investigación en mate\n",
      "n educativa en una escuela de nombre cimat si no pagan la cuota , sin importarl\n",
      " . los menciono por institución : el cimat , el centro de investigación en mate\n",
      "cos , el segundo grupo académico del cimat además tiene una colaboración con el\n",
      "és christen y marcos capistrán , del cimat , del propio centro de investigación\n"
     ]
    }
   ],
   "source": [
    "texto_tweet.concordance(\"cimat\")"
   ]
  },
  {
   "cell_type": "markdown",
   "metadata": {},
   "source": [
    "#### 2. Elija una palabra que le parezca interesante y muestre palabras con uso similar. \n",
    "\n",
    "Muestre también los contextos comunes. COMENTE al respecto.\n",
    "\n",
    "---\n"
   ]
  },
  {
   "cell_type": "code",
   "execution_count": 24,
   "metadata": {},
   "outputs": [
    {
     "name": "stdout",
     "output_type": "stream",
     "text": [
      "pueblo gobierno país presidente mundo dinero estado presupuesto agua\n",
      "bienestar año tema y día reforma covid tiempo norte ejército cambio\n"
     ]
    }
   ],
   "source": [
    "texto_tweet.similar(\"prian\")"
   ]
  },
  {
   "cell_type": "code",
   "execution_count": 25,
   "metadata": {},
   "outputs": [
    {
     "name": "stdout",
     "output_type": "stream",
     "text": [
      "pensión investigación empresa información campaña parte familia\n",
      "pregunta propuesta gente casa semana vida situación obra reforma\n",
      "operación reunión persona denuncia\n"
     ]
    }
   ],
   "source": [
    "texto_tweet.similar(\"beca\")"
   ]
  },
  {
   "cell_type": "code",
   "execution_count": 26,
   "metadata": {},
   "outputs": [
    {
     "name": "stdout",
     "output_type": "stream",
     "text": [
      "corrupción información investigación salud educación economía\n",
      "seguridad justicia violencia que democracia gente atención\n",
      "comunicación vida verdad reforma población infraestructura historia\n"
     ]
    }
   ],
   "source": [
    "texto_tweet.similar(\"ciencia\")"
   ]
  },
  {
   "cell_type": "markdown",
   "metadata": {},
   "source": [
    "Es interesante como en la palabra **ciencia**, existe una variedad de palabras muy interesante. Esto nos indica que en las conferencias de prensa del presidente se habla de bastantes temas con la misma estructura contextual. Por ejemplo, cuando se habla de ciencia, se encontraron conceptos en áreas claves como: *educación*, *economía*, *salud*. Es decir, que al buscar la palabra ciencia, la función ``similar``la encuentra en los mismos contextos que estos temas clasves, indicando un discurso similar cuando se habla de ciencia y estos temas. Esto podría indicar que el discurso político no aísla a la ciencia como un dominio independiente, sino que la integra en una amplia gama de cuestiones sociales, económicas y políticas.\n",
    "\n",
    "La misma relación se observa con términos como *investigación*, +información* y *comunicación*, lo que sugiere que el discurso en torno a la ciencia comparte similitudes con la manera en que se abordan estos conceptos. Esto puede indicar discusiones sobre la importancia de la comunicación científica, la divulgación y la lucha contra la desinformación.\n",
    "\n",
    "Como último punto la búsqueda también arrojó las palabras *seguridad*, *violencia*, *corrupción* indicando que la estructura lingüistica con la que se trata la palabra ciencia es similar a estas otras palabras, indicando como la ciencia podría discutirse en este contexto en relación con sus aplicaciones prácticas y su impacto en áreas fundamentales para el bienestar y el desarrollo del país."
   ]
  },
  {
   "cell_type": "code",
   "execution_count": 27,
   "metadata": {},
   "outputs": [
    {
     "name": "stdout",
     "output_type": "stream",
     "text": [
      "de_a con_de de_de de_para de_al de_y de_que de_en y_a en_de sin_a\n",
      "de_del de_con a_a dando_a entregar_a dieron_a da_a para_de es_para\n"
     ]
    }
   ],
   "source": [
    "texto_tweet.common_contexts([\"apoyo\", \"becas\"])"
   ]
  },
  {
   "cell_type": "markdown",
   "metadata": {},
   "source": [
    "En cuanto a los contextos comunes, hay bastantes que estan relacionados con preposiciones y palabras simples, lo cual sugiere que tanto **apoyo** como **becas** se discuten en términos de su relación con otros temas o cosas. Por ejemplo, frases como *apoyo de la comunidad* y *becas para estudiantes* podrían ser comunes, indicando cómo se proporciona el apoyo o a quién se dirigen las becas.\n",
    "\n",
    "Existe también las palabras relacionadas con acciones. El hecho de que aparezcan, puede llevar a la formación de frases como *dando apoyo a* y *entregar becas a*, lo cual indica que en las conferencias de prensa abordan cómo se lleva a cabo el apoyo a través de becas, enfatizando el proceso y la acción de proporcionar estos beneficios.\n",
    "\n",
    "#### 3. Organice todos los archivos de las conferencias y plot\n",
    "\n",
    "Desde la más antigua hasta la más nueva (echando mano del nombre del archivo y fechas), y c ́arguelos en un objeto Text para generar un dispersion plot de las siguientes palabras: prian, corrupci ́on, mafia, narco, gasolina, pipas, conacyt, conahcyt, ciencia, turismo, pandemia, coronavirus, covid, delta, omicron, vacuna, vacunacion y otras cinco palabras de su elección.\n",
    "\n",
    "---\n",
    "\n",
    "El código para realizar esto es similar al que ya se tenía, únicamente se tienen que ordenar los archivos en el string antes de tokenizarlo para lograr el resultado deseado."
   ]
  },
  {
   "cell_type": "code",
   "execution_count": 28,
   "metadata": {},
   "outputs": [],
   "source": [
    "import os\n",
    "# Ruta a la carpeta con los archivos\n",
    "ruta_carpeta = \"/Users/guillermo_sego/Desktop/Segundo Semestre/PLN/MorningData\"\n",
    "\n",
    "# Obtener una lista de todos los archivos en la carpeta\n",
    "archivos = glob.glob(os.path.join(ruta_carpeta, \"*.txt\"))\n",
    "\n",
    "# Ordenar los archivos por nombre ya que estan nombrados por fecha\n",
    "archivos_ordenados = sorted(archivos)"
   ]
  },
  {
   "cell_type": "markdown",
   "metadata": {},
   "source": [
    "Tokenizamos cuidando convertir todo a minúsculas."
   ]
  },
  {
   "cell_type": "code",
   "execution_count": 29,
   "metadata": {},
   "outputs": [],
   "source": [
    "# Lista con el contenido completo tokenizado\n",
    "tokens_completo = []\n",
    "\n",
    "# Inicializar el TweetTokenizer\n",
    "tweet_tokenizer = TweetTokenizer()\n",
    "\n",
    "# Iteramos sobre los archivos en la carpeta especificada\n",
    "for paginas in archivos_ordenados:\n",
    "    # Abrimos los archivos\n",
    "    with open(paginas, \"r\", encoding=\"utf-8\") as file:\n",
    "        # Se lee el contenido del archivo y se guarda en un string\n",
    "        contenido = file.read()\n",
    "        \n",
    "        # Tokenizar y convertir cada token a minúsculas\n",
    "        tokens = [token.lower() for token in tweet_tokenizer.tokenize(contenido)]\n",
    "\n",
    "        tokens_completo.extend(tokens)\n",
    "\n",
    "\n",
    "# Crear el objeto Text con todos los tokens\n",
    "texto_nltk_ordenado = Text(tokens_completo)\n"
   ]
  },
  {
   "cell_type": "markdown",
   "metadata": {},
   "source": [
    "La función ``dispersion_plot``tiene un error. Revisar [2]"
   ]
  },
  {
   "cell_type": "code",
   "execution_count": 30,
   "metadata": {},
   "outputs": [],
   "source": [
    "def dispersion_plot(text, words, ignore_case=False, title=\"Lexical Dispersion Plot\"):\n",
    "    \"\"\"\n",
    "    Generate a lexical dispersion plot.\n",
    "\n",
    "    :param text: The source text\n",
    "    :type text: list(str) or iter(str)\n",
    "    :param words: The target words\n",
    "    :type words: list of str\n",
    "    :param ignore_case: flag to set if case should be ignored when searching text\n",
    "    :type ignore_case: bool\n",
    "    :return: a matplotlib Axes object that may still be modified before plotting\n",
    "    :rtype: Axes\n",
    "    \"\"\"\n",
    "\n",
    "    try:\n",
    "        import matplotlib.pyplot as plt\n",
    "    except ImportError as e:\n",
    "        raise ImportError(\n",
    "            \"The plot function requires matplotlib to be installed. \"\n",
    "            \"See https://matplotlib.org/\"\n",
    "        ) from e\n",
    "\n",
    "    word2y = {\n",
    "        word.casefold() if ignore_case else word: y\n",
    "        for y, word in enumerate(words)\n",
    "    }\n",
    "    xs, ys = [], []\n",
    "    for x, token in enumerate(text):\n",
    "        token = token.casefold() if ignore_case else token\n",
    "        y = word2y.get(token)\n",
    "        if y is not None:\n",
    "            xs.append(x)\n",
    "            ys.append(y)\n",
    "\n",
    "    _, ax = plt.subplots()\n",
    "    ax.plot(xs, ys, \"|\")\n",
    "    ax.set_yticks(list(range(len(words))), words, color=\"C0\")\n",
    "    ax.set_ylim(-1, len(words))\n",
    "    ax.set_title(title)\n",
    "    ax.set_xlabel(\"Word Offset\")\n",
    "    return ax\n"
   ]
  },
  {
   "cell_type": "code",
   "execution_count": 31,
   "metadata": {},
   "outputs": [
    {
     "data": {
      "image/png": "[encoded data removed]",
      "text/plain": [
       "<Figure size 640x480 with 1 Axes>"
      ]
     },
     "metadata": {},
     "output_type": "display_data"
    }
   ],
   "source": [
    "import matplotlib.pyplot as plt\n",
    "\n",
    "# Lista de palabras para el gráfico de dispersión\n",
    "palabras_clave = [\"prian\", \"corrupción\", \"mafia\", \"narco\", \"gasolina\", \"pipas\", \"conacyt\", \"conahcyt\",\n",
    "                  \"ciencia\", \"turismo\", \"pandemia\", \"coronavirus\", \"covid\", \"delta\", \"omicron\",\n",
    "                  \"vacuna\", \"vacunacion\", \"aeropuerto\", \"elecciones\", \"presupuesto\", \"tren\", \"abrazos\"]\n",
    "\n",
    "# Genera el gráfico de dispersión\n",
    "dispersion_plot(texto_nltk_ordenado, palabras_clave)\n",
    "\n",
    "plt.show()\n"
   ]
  },
  {
   "cell_type": "markdown",
   "metadata": {},
   "source": [
    "#### 4. Muestre 50 colocaciones de todo el corpus.\n",
    "\n",
    "---\n",
    "\n",
    "Para encontrar y mostrar 50 colocaciones en todo el corpus utilizamos el método ``collocations()``. Las colocaciones son combinaciones de palabras que ocurren juntas más frecuentemente de lo que cabría esperar por casualidad."
   ]
  },
  {
   "cell_type": "code",
   "execution_count": 33,
   "metadata": {},
   "outputs": [
    {
     "name": "stdout",
     "output_type": "stream",
     "text": [
      "lópez obrador; andrés manuel; manuel lópez; presidente andrés; estados\n",
      "unidos; por ciento; buenos días; señor presidente; todos los; versión\n",
      "estenográfica; nada más; guardia nacional; prensa matutina; muchas\n",
      "gracias; por eso; tren maya; desde luego; por ejemplo; sin embargo;\n",
      "derechos humanos; quintana roo; mil millones; creo que; baja\n",
      "california; todas las; sobre todo; muy importante; adultos mayores;\n",
      "por qué; ramírez cuevas; muy bien; que que; marcelo ebrard; jesús\n",
      "ramírez; poder judicial; nuestro país; ver con; matutina del; tiene\n",
      "que; para que; garcía luna; comisión federal; redes sociales; que nos;\n",
      "los trabajadores; seguridad pública; del estado; nuevo león; gobierno\n",
      "federal; del gobierno\n"
     ]
    }
   ],
   "source": [
    "nltk.data.path.append('/Users/guillermo_sego/anaconda3/nltk_data/')\n",
    "texto_nltk_ordenado.collocations(num=50)"
   ]
  },
  {
   "cell_type": "markdown",
   "metadata": {},
   "source": [
    "#### 5. Muestre un histograma de longitud en caracteres de las palabras. \n",
    "\n",
    "Muestre en el histograma el top 5 de longitudes más largas.\n",
    "\n",
    "---\n",
    "\n",
    "Para mostrar un histograma de la longitud en caracteres de las palabras de tu corpus y destacar las top 5 longitudes más largas, hacemos lo siguiente. Primero necesitamos calcular la longitud de cada palabra única. Para esto utilizamos una list comprenhension. Luego ploteamos el histograma y resaltamos las 5 longitudes más largas."
   ]
  },
  {
   "cell_type": "code",
   "execution_count": 34,
   "metadata": {},
   "outputs": [],
   "source": [
    "# Obtener vocabulario\n",
    "palabras_unicas = set(texto_nltk_ordenado)\n",
    "\n",
    "# Calcular la longitud de vocabulario\n",
    "longitudes = [len(palabra) for palabra in palabras_unicas]"
   ]
  },
  {
   "cell_type": "code",
   "execution_count": 35,
   "metadata": {},
   "outputs": [
    {
     "data": {
      "image/png": "[encoded data removed]",
      "text/plain": [
       "<Figure size 640x480 with 1 Axes>"
      ]
     },
     "metadata": {},
     "output_type": "display_data"
    }
   ],
   "source": [
    "# Crear el histograma de longitudes de palabras\n",
    "plt.hist(longitudes, bins=range(min(longitudes), max(longitudes) + 1), color='blue', edgecolor='black')\n",
    "\n",
    "# Formato\n",
    "plt.title('Histograma de Longitud de Palabras')\n",
    "plt.xlabel('Longitud de la Palabra')\n",
    "plt.ylabel('Frecuencia')\n",
    "\n",
    "plt.show()"
   ]
  },
  {
   "cell_type": "markdown",
   "metadata": {},
   "source": [
    "Para obtener un histograma destacado, necesitamos calcular las longitudes. Podemos utilizar el método **Counter** de la libreria ``collections``"
   ]
  },
  {
   "cell_type": "code",
   "execution_count": 36,
   "metadata": {},
   "outputs": [
    {
     "data": {
      "image/png": "[encoded data removed]",
      "text/plain": [
       "<Figure size 640x480 with 1 Axes>"
      ]
     },
     "metadata": {},
     "output_type": "display_data"
    }
   ],
   "source": [
    "from collections import Counter\n",
    "\n",
    "# Contar la frecuencia de cada longitud\n",
    "frecuencia_longitudes = Counter(longitudes)\n",
    "\n",
    "# Encontrar las top 5 longitudes más comunes\n",
    "top_5_longitudes = frecuencia_longitudes.most_common(5)\n",
    "\n",
    "# Crear el histograma\n",
    "plt.hist(longitudes, bins=range(min(longitudes), max(longitudes) + 1), color='skyblue', edgecolor='black')\n",
    "\n",
    "# Destacar las top 5 longitudes más largas\n",
    "for longitud, _ in top_5_longitudes:\n",
    "    plt.axvline(x=longitud, color='red', linestyle='dashed', linewidth=1)\n",
    "\n",
    "# Formato\n",
    "plt.legend(['Top 5 Longitudes'])\n",
    "plt.title('Histograma de Longitud de Palabras con Top 5 Longitudes Resaltadas')\n",
    "plt.xlabel('Longitud de la Palabra')\n",
    "plt.ylabel('Frecuencia')\n",
    "plt.show()\n"
   ]
  },
  {
   "cell_type": "markdown",
   "metadata": {},
   "source": [
    "#### 6. Muestre 50 palabras con longitud mayor a 8 caracteres y frecuencia mayor a 5 \n",
    "Usando comprenhension list de python.\n",
    "\n",
    "---\n",
    "\n",
    "Para contar la frecuencia de cada token podemos utilizar el método ``FreqDist``de la libreria **nltk**. Lo importamos y contamos las frecuencias de los tokens. Luego utilizamos una list comprenhension con un condicional para construir la lista."
   ]
  },
  {
   "cell_type": "code",
   "execution_count": 37,
   "metadata": {},
   "outputs": [],
   "source": [
    "from nltk.probability import FreqDist\n",
    "\n",
    "# Calcular la frecuencia de cada token\n",
    "fdist = FreqDist(texto_nltk_ordenado)"
   ]
  },
  {
   "cell_type": "code",
   "execution_count": 38,
   "metadata": {},
   "outputs": [
    {
     "name": "stdout",
     "output_type": "stream",
     "text": [
      "El tamaño del arreglo es: 15896\n"
     ]
    }
   ],
   "source": [
    "len_mayor_8 = [palabra for palabra in fdist if len(palabra) > 8 and fdist[palabra] > 5]\n",
    "print(\"El tamaño del arreglo es: \" + str(len(len_mayor_8)))"
   ]
  },
  {
   "cell_type": "code",
   "execution_count": 39,
   "metadata": {},
   "outputs": [
    {
     "data": {
      "text/plain": [
       "['presidente',\n",
       " 'importante',\n",
       " 'seguridad',\n",
       " 'interlocutor',\n",
       " 'información',\n",
       " 'interlocutora',\n",
       " 'secretaría',\n",
       " 'corrupción',\n",
       " 'secretario',\n",
       " 'trabajadores',\n",
       " 'mexicanos',\n",
       " 'conferencia',\n",
       " 'situación',\n",
       " 'presupuesto',\n",
       " 'intervención',\n",
       " 'elementos',\n",
       " 'trabajando',\n",
       " 'bienestar',\n",
       " 'construcción',\n",
       " 'investigación',\n",
       " 'estenográfica',\n",
       " 'preguntarle',\n",
       " 'violencia',\n",
       " 'república',\n",
       " 'población',\n",
       " 'desarrollo',\n",
       " 'gobernador',\n",
       " 'aeropuerto',\n",
       " 'comunicación',\n",
       " 'educación',\n",
       " 'municipios',\n",
       " 'siguiente',\n",
       " 'protección',\n",
       " 'inversión',\n",
       " 'hospitales',\n",
       " 'precisamente',\n",
       " 'transformación',\n",
       " 'autoridades',\n",
       " 'democracia',\n",
       " 'instituto',\n",
       " 'secretaria',\n",
       " 'gobiernos',\n",
       " 'compromiso',\n",
       " 'imagínense',\n",
       " 'solamente',\n",
       " 'propósito',\n",
       " 'administración',\n",
       " 'ciudadanos',\n",
       " 'programas',\n",
       " 'constitución']"
      ]
     },
     "execution_count": 39,
     "metadata": {},
     "output_type": "execute_result"
    }
   ],
   "source": [
    "# Se muestran los primeros 50\n",
    "len_mayor_8[:50]"
   ]
  },
  {
   "cell_type": "markdown",
   "metadata": {},
   "source": [
    "#### 7. Proponga una gráfica usando ConditionalFreqDist para estos datos. \n",
    "\n",
    "Ver https://www.nltk.org/book/ch02.html en la secci ́on 1.5. Usted elige las palabras.\n",
    "\n",
    "---\n",
    "\n",
    "``ConditionalFreqDist`` de NLTK es una clase que permite construir una distribución de frecuencias condicionales. Es decir, en lugar de simplemente contar la frecuencia de cada elemento en un conjunto de datos, como hace ``FreqDist``, ``ConditionalFreqDist`` cuenta la frecuencia de los elementos bajo una condición determinada.\n",
    "\n",
    "En la sección 1.5 del libro se habla acerca de como el corpus es una construcción de 55 textos completos a lo largo del tiempo. De hecho se menciona que una propiedad interesante es la dimensionalidad del tiempo, ya que se puede ver como palabras han influido a lo largo del tiempo. Para poder lograr esto con nuestros datos primero necesitamos extraer la dimensión del tiempo. Utilizamos la librería ``re`` para encontar el año en el nombre de los archivos que ya teníamos ordenados previamente. "
   ]
  },
  {
   "cell_type": "code",
   "execution_count": 40,
   "metadata": {},
   "outputs": [],
   "source": [
    "import re\n",
    "\n",
    "# Lista para almacenar las fechas\n",
    "fechas = []\n",
    "\n",
    "# Expresión regular para el año\n",
    "patron_fecha = r'\\d{4}'\n",
    "\n",
    "for archivo in archivos_ordenados:\n",
    "    # Buscar la fecha en el nombre del archivo\n",
    "    coincidencia = re.search(patron_fecha, archivo)\n",
    "    if coincidencia:\n",
    "        fechas.append(coincidencia.group())"
   ]
  },
  {
   "cell_type": "markdown",
   "metadata": {},
   "source": [
    "Ahora si podemos construir el gráfico. Nótese que ya que solo guardamos el año, construiremos el plot por año. Se intentó construir por día pero el gráfico resultante era algo ilegible."
   ]
  },
  {
   "cell_type": "code",
   "execution_count": 41,
   "metadata": {},
   "outputs": [
    {
     "data": {
      "image/png": "[encoded data removed]",
      "text/plain": [
       "<Figure size 1200x600 with 1 Axes>"
      ]
     },
     "metadata": {},
     "output_type": "display_data"
    },
    {
     "data": {
      "text/plain": [
       "<Axes: xlabel='Samples', ylabel='Counts'>"
      ]
     },
     "execution_count": 41,
     "metadata": {},
     "output_type": "execute_result"
    }
   ],
   "source": [
    "from nltk.probability import ConditionalFreqDist\n",
    "\n",
    "# Inicializar un ConditionalFreqDist vacío\n",
    "cfd = ConditionalFreqDist()\n",
    "\n",
    "# Definir las palabras objetivo\n",
    "palabras_objetivo = ['covid', 'vacuna']\n",
    "\n",
    "# Inicializar el TweetTokenizer\n",
    "tweet_tokenizer = TweetTokenizer()\n",
    "\n",
    "# Iterar sobre los archivos y sus fechas correspondientes\n",
    "for archivo, fecha in zip(archivos_ordenados, fechas):\n",
    "    with open(archivo, 'r', encoding='utf-8') as f:\n",
    "        contenido = f.read().lower()  # Convertir a minúsculas\n",
    "        \n",
    "        # Tokenizar el contenido del archivo\n",
    "        tokens = tweet_tokenizer.tokenize(contenido)\n",
    "        \n",
    "        # Añadir tokens al ConditionalFreqDist\n",
    "        for token in tokens:\n",
    "            for objetivo in palabras_objetivo:\n",
    "                if token.startswith(objetivo):\n",
    "                    cfd[objetivo][fecha] += 1\n",
    "\n",
    "# Grafico\n",
    "plt.figure(figsize=(12, 6)) \n",
    "cfd.plot()\n"
   ]
  },
  {
   "cell_type": "markdown",
   "metadata": {},
   "source": [
    "#### 8. Use la lista de stopwords de nltk y obtenga la cantidad de palabras en los datos con y sin stopword. \n",
    "Comente brevemente las diferencias.\n",
    "\n",
    "---\n",
    "\n",
    "Para contar la cantidad de palabras en losdatos con y sin incluir las stopwords, primero necesitamos obtener la lista de stopwords de nltk y luego filtrar tus tokens basándote en esta lista."
   ]
  },
  {
   "cell_type": "code",
   "execution_count": 42,
   "metadata": {},
   "outputs": [],
   "source": [
    "from nltk.corpus import stopwords\n",
    "stop_words = set(stopwords.words('spanish')) # Stopwords en español"
   ]
  },
  {
   "cell_type": "code",
   "execution_count": 43,
   "metadata": {},
   "outputs": [],
   "source": [
    "# Contar todas las palabras (tokens)\n",
    "total_palabras = len(texto_nltk_ordenado)\n",
    "\n",
    "# Filtrar las palabras eliminando stopwords\n",
    "palabras_sin_stopwords = [palabra for palabra in texto_nltk_ordenado if palabra not in stop_words]\n",
    "\n",
    "# Contar las palabras sin stopwords\n",
    "total_palabras_sin_stopwords = len(palabras_sin_stopwords)\n"
   ]
  },
  {
   "cell_type": "code",
   "execution_count": 44,
   "metadata": {},
   "outputs": [
    {
     "name": "stdout",
     "output_type": "stream",
     "text": [
      "Total de palabras (con stopwords): 15981392\n",
      "Total de palabras (sin stopwords): 8933586\n",
      "Diferencia: 7047806\n"
     ]
    }
   ],
   "source": [
    "print(\"Total de palabras (con stopwords): \" + str(total_palabras))\n",
    "print(\"Total de palabras (sin stopwords): \" + str(total_palabras_sin_stopwords))\n",
    "\n",
    "diferencia = total_palabras - total_palabras_sin_stopwords\n",
    "print(\"Diferencia: \" + str(diferencia))\n"
   ]
  },
  {
   "cell_type": "markdown",
   "metadata": {},
   "source": [
    "Los resultados obtenidos del análisis muestran una cantidad significativa de palabras en el corpus, con un total de 15981392 palabras antes de eliminar las stopwords, y 8933586 palabras después de su eliminación. La diferencia es casi la mitad de las palabras con 7047806. Es bastante.\n",
    "\n",
    "#### 9. Muestre las 300 palabras más frecuentes en las conferencias\n",
    "Sin tomar en cuenta stopwords. Múestrelas de la m ́as frecuente a la menos frecuente.\n",
    "\n",
    "---\n",
    "\n",
    "Para lograr esto utilizamos la lista **palabras_sin_stopwords** que ya habíamos calculado en el punto pasado. Utilizamos la función ``FreqDsit`` para calcular la frecuencia de cada token. "
   ]
  },
  {
   "cell_type": "code",
   "execution_count": 45,
   "metadata": {},
   "outputs": [],
   "source": [
    "# Calcula la frecuencia de cada palabra\n",
    "fdist = FreqDist(palabras_sin_stopwords)"
   ]
  },
  {
   "cell_type": "code",
   "execution_count": 46,
   "metadata": {},
   "outputs": [
    {
     "name": "stdout",
     "output_type": "stream",
     "text": [
      ",: 1285246\n",
      ".: 534210\n",
      ":: 124394\n",
      "presidente: 92818\n",
      "¿: 66247\n",
      "?: 66103\n",
      "lópez: 49447\n",
      "manuel: 48503\n",
      "obrador: 48191\n",
      "andrés: 47794\n",
      "si: 47383\n",
      "entonces: 43298\n",
      "vamos: 40560\n",
      "va: 40368\n",
      ";: 39783\n",
      "mil: 38578\n",
      "méxico: 35719\n",
      "aquí: 27960\n",
      "gobierno: 26459\n",
      "pues: 22760\n",
      "ver: 22671\n",
      "dos: 22520\n",
      "ahora: 22295\n",
      "‘: 21969\n",
      "’: 20976\n",
      "ahí: 19890\n",
      "bueno: 19757\n",
      "caso: 19496\n",
      "millones: 19333\n",
      "cómo: 18362\n",
      "nacional: 18036\n",
      "país: 17935\n",
      "pregunta: 17713\n",
      "…: 17426\n",
      "días: 17347\n",
      "pesos: 17269\n",
      "van: 17239\n",
      "así: 16911\n",
      "ser: 16818\n",
      "gente: 16572\n",
      "hacer: 16550\n",
      "señor: 16525\n",
      "usted: 16373\n",
      "pueblo: 15804\n",
      "ciento: 15763\n",
      "gracias: 14359\n",
      "bien: 14116\n",
      "año: 14064\n",
      "tres: 14061\n",
      "tema: 13916\n",
      "años: 13664\n",
      "parte: 13213\n",
      "decir: 13200\n",
      "importante: 13183\n",
      "puede: 13153\n",
      "hoy: 12817\n",
      "seguridad: 12784\n",
      "mismo: 12769\n",
      "salud: 12709\n",
      "tener: 12705\n",
      "día: 12686\n",
      "manera: 12488\n",
      "personas: 12465\n",
      "-: 12461\n",
      "hace: 12442\n",
      "interlocutor: 12242\n",
      "tiempo: 12156\n",
      "general: 11990\n",
      "poder: 11848\n",
      "unidos: 11825\n",
      "información: 11660\n",
      "buenos: 11545\n",
      "todas: 11426\n",
      "interlocutora: 11363\n",
      "luego: 10872\n",
      "secretaría: 10640\n",
      "voy: 10397\n",
      "además: 10226\n",
      "sólo: 10026\n",
      "muchas: 9799\n",
      "corrupción: 9774\n",
      "ayer: 9754\n",
      "acuerdo: 9657\n",
      "haciendo: 9601\n",
      "trabajo: 9025\n",
      "ustedes: 8827\n",
      "pública: 8523\n",
      "federal: 8497\n",
      "ejemplo: 8444\n",
      "ciudad: 8385\n",
      "siempre: 8359\n",
      "toda: 8300\n",
      "creo: 7949\n",
      "—: 7901\n",
      "cada: 7836\n",
      "semana: 7811\n",
      "empresas: 7737\n",
      "dar: 7531\n",
      "política: 7408\n",
      "haber: 7372\n",
      "cuatro: 7248\n",
      "dinero: 7244\n",
      "reforma: 7203\n",
      "mejor: 7194\n",
      "vez: 7175\n",
      "secretario: 7164\n",
      "menos: 7151\n",
      "trabajadores: 7076\n",
      "(: 7020\n",
      "proceso: 7014\n",
      "cosas: 6994\n",
      "programa: 6956\n",
      "apoyo: 6947\n",
      "centavos: 6929\n",
      "casos: 6853\n",
      "cabo: 6823\n",
      "hecho: 6786\n",
      "seguir: 6782\n",
      "momento: 6724\n",
      "social: 6709\n",
      "cinco: 6709\n",
      "sino: 6656\n",
      "incluso: 6604\n",
      "todavía: 6531\n",
      "ir: 6524\n",
      "vida: 6488\n",
      "asunto: 6360\n",
      "10: 6330\n",
      "mexicanos: 6305\n",
      "plan: 6269\n",
      "atención: 6227\n",
      "guardia: 6193\n",
      "20: 6171\n",
      "mañana: 6108\n",
      "): 6104\n",
      "mundo: 6085\n",
      "prensa: 6057\n",
      "sido: 6055\n",
      "pueden: 6053\n",
      "quién: 6014\n",
      "dice: 5991\n",
      "nuevo: 5977\n",
      "tren: 5963\n",
      "problema: 5963\n",
      "derecho: 5935\n",
      "quiero: 5898\n",
      "medios: 5894\n",
      "conferencia: 5875\n",
      "precio: 5767\n",
      "situación: 5648\n",
      "pemex: 5623\n",
      "presupuesto: 5618\n",
      "agua: 5604\n",
      "recursos: 5597\n",
      "intervención: 5566\n",
      "después: 5561\n",
      "podemos: 5539\n",
      "empresa: 5515\n",
      "gran: 5487\n",
      "conocer: 5484\n",
      "primera: 5463\n",
      "elementos: 5425\n",
      "jóvenes: 5422\n",
      "trabajando: 5397\n",
      "primero: 5396\n",
      "mayor: 5393\n",
      "público: 5390\n",
      "pasado: 5375\n",
      "bienestar: 5351\n",
      "cuenta: 5343\n",
      "baja: 5267\n",
      "hizo: 5208\n",
      "ley: 5205\n",
      "versión: 5188\n",
      "fiscalía: 5187\n",
      "informar: 5170\n",
      "da: 5073\n",
      "países: 5058\n",
      "seis: 5057\n",
      "construcción: 5024\n",
      "investigación: 5006\n",
      "sistema: 4966\n",
      "justicia: 4947\n",
      "hablando: 4930\n",
      "hacia: 4892\n",
      "queremos: 4892\n",
      "allá: 4888\n",
      "grupo: 4887\n",
      "estenográfica: 4883\n",
      "comisión: 4816\n",
      "adelante: 4799\n",
      "preguntarle: 4794\n",
      "sé: 4689\n",
      "violencia: 4674\n",
      "respecto: 4664\n",
      "favor: 4642\n",
      "república: 4619\n",
      "debe: 4604\n",
      "veces: 4588\n",
      "informe: 4560\n",
      "lugar: 4548\n",
      "defensa: 4546\n",
      "primer: 4542\n",
      "tipo: 4540\n",
      "población: 4534\n",
      "mucha: 4529\n",
      "claro: 4497\n",
      "mujeres: 4496\n",
      "desarrollo: 4473\n",
      "gobernador: 4472\n",
      "nivel: 4459\n",
      "zona: 4458\n",
      "veracruz: 4434\n",
      "gas: 4424\n",
      "falta: 4415\n",
      "derechos: 4399\n",
      "maya: 4388\n",
      "aeropuerto: 4369\n",
      "personal: 4353\n",
      "cuál: 4344\n",
      "decía: 4335\n",
      "mes: 4309\n",
      "nunca: 4289\n",
      "video: 4255\n",
      "número: 4195\n",
      "comunicación: 4188\n",
      "atender: 4128\n",
      "matutina: 4102\n",
      "19: 4073\n",
      "marina: 4071\n",
      "través: 4069\n",
      "iba: 4066\n",
      "15: 4057\n",
      "médicos: 4053\n",
      "servicio: 4044\n",
      "vemos: 4041\n",
      "nadie: 4032\n",
      "dicho: 4026\n",
      "educación: 3999\n",
      "proyecto: 3991\n",
      "municipios: 3983\n",
      "nueva: 3979\n",
      "sonora: 3965\n",
      "total: 3963\n",
      "forma: 3944\n",
      "periodo: 3939\n",
      "buena: 3903\n",
      "verdad: 3902\n",
      "siguiente: 3899\n",
      "jesús: 3863\n",
      "protección: 3841\n",
      "dólares: 3829\n",
      "seguro: 3807\n",
      "inversión: 3799\n",
      "llegar: 3792\n",
      "hospitales: 3785\n",
      "ningún: 3776\n",
      "segundo: 3771\n",
      "aunque: 3762\n",
      "tan: 3752\n",
      "respeto: 3750\n",
      "cuanto: 3743\n",
      "medio: 3726\n",
      "pandemia: 3704\n",
      "meses: 3699\n",
      "precisamente: 3683\n",
      "sector: 3678\n",
      "covid: 3673\n",
      "100: 3665\n",
      "dónde: 3655\n",
      "mayoría: 3650\n",
      "hicieron: 3640\n",
      "cambio: 3631\n",
      "economía: 3616\n",
      "ocho: 3616\n",
      "dio: 3602\n",
      "transformación: 3599\n",
      "ramírez: 3596\n",
      "autoridades: 3569\n",
      "partir: 3565\n",
      "democracia: 3560\n",
      "acciones: 3555\n",
      "humanos: 3525\n",
      "san: 3513\n",
      "instituto: 3506\n",
      "relación: 3493\n",
      "digo: 3480\n",
      "vacunas: 3479\n",
      "saber: 3467\n",
      "sigue: 3466\n",
      "puedo: 3457\n",
      "llevar: 3453\n",
      "30: 3453\n",
      "secretaria: 3441\n",
      "centro: 3434\n",
      "reunión: 3431\n",
      "sociales: 3426\n",
      "dijo: 3423\n",
      "pueblos: 3421\n",
      "gobiernos: 3418\n"
     ]
    }
   ],
   "source": [
    "# Obtener las 300 palabras más frecuentes\n",
    "palabras_mas_frecuentes = fdist.most_common(300)\n",
    "\n",
    "# Imprimir las palabras y sus frecuencias\n",
    "for palabra, frecuencia in palabras_mas_frecuentes:\n",
    "    print(f\"{palabra}: {frecuencia}\")\n"
   ]
  },
  {
   "cell_type": "markdown",
   "metadata": {},
   "source": [
    "## Otras librerias en Python\n",
    "\n",
    "Investigue y comente brevemente en sus propias palabras:\n",
    "\n",
    "#### 1. Mencione dos librerías en Python además de NLTK para NLP. Ponga una desventaja y ventaja de cada una.\n",
    "\n",
    "--- \n",
    "\n",
    "##### 1. spaCy\n",
    "\n",
    "**Ventaja**: spaCy está diseñado para ser rápido y eficiente. Además ofrece modelos previamente entrenados (preentrenados) para varias lenguas y es capaz de manejar tareas como tokenización, lematización, reconocimiento de entidades nombradas, y análisis de dependencias. Su API es muy intuitiva y fácil de usar para los desarrolladores. Tiene una API es bastante útil si quieres trabajar con desarrollo en la web. [3]\n",
    "\n",
    "**Desventaja**: Aunque spaCy es muy poderoso y útil para muchas tareas de NLP, no es tan adecuado para tareas de NLP que requieren un trabajo detallado a nivel de token o para las que se requiere un control más fino sobre los componentes del procesamiento del lenguaje. Por ejemplo para contextos académicos o de investigación mas profunda. [3]\n",
    "\n",
    "##### 2. Transformers\n",
    "\n",
    "**Ventaja**: La biblioteca transformers fue desarrollada por Hugging Face. Esta librería proporciona una gran cantidad de modelos de NLP preentrenados basados en arquitecturas de transformadores, como BERT, GPT-2, T5, etc. Estos modelos pueden ser utilizados para una amplia gama de tareas de NLP, como la comprensión del lenguaje, generación de texto, traducción automática, y más. La biblioteca está en constante actualización con los últimos modelos y avances en el campo del NLP, lo cual es súper ya que trabajamos en un área en la que hay avances diariamente. [4]\n",
    "\n",
    "**Desventaja**: La principal desventaja de usar modelos de transformers es su tamaño y costo computacional. Muchos de los modelos son muy grandes y requieren una cantidad significativa de recursos de memoria y procesamiento (a menudo, una GPU) para entrenar y ejecutar, lo que puede ser un obstáculo para aplicaciones con recursos limitados o para desarrolladores que no tienen acceso a este tipo de hardware. [4]\n",
    "\n",
    "\n",
    "#### 2. Mencione tres alternativas para Text Processing en NLP qué existen en otros lenguajes.\n",
    "De una ventaja y desventaja de cada una.\n",
    "\n",
    "---\n",
    "\n",
    "##### 1. **Apache OpenNLP (Java)**\n",
    "- **Ventaja**: OpenNLP es un proyecto de la Fundación Apache que proporciona un conjunto de herramientas de NLP que incluye soporte para tareas como la tokenización, el etiquetado, y el reconocimiento de entidades nombradas. Su integración con otros proyectos de Apache lo hace ideal para entornos de producción que ya utilizan el ecosistema de Apache. Sobretodo para el desarrollo con Java, ya que para las personas que lo utilizan puede ser un poderoso recurso.\n",
    "- **Desventaja**: Aunque es una herramienta sólida, no necesariamente está a actualizada o mas que nada a la vanguardia en términos de métodos o algoritmos. Esto puede ser una limitación para proyectos que buscan implementar las últimas innovaciones en NLP [5].\n",
    "\n",
    "##### 2. **Stanford CoreNLP (Java)**\n",
    "- **Ventaja**: Desarrollado por la Universidad de Stanford. Este conjunto de herramientas ofrece una amplia gama de funcionalidades de NLP, incluyendo NLP estadístico, NLP de aprendizaje profundo. Debido a que fue desarrollado en un ambiente académico, este paquete busca estar a la vanguardia en temas de procesamiento de lenguaje natural, incluyendo los últimos avances en el tema [5].\n",
    "- **Desventaja**: Aunque es extremadamente potente para la investigación y la experimentación, puede no ser la mejor opción para trabajos en la industria debido a posibles costos adicionales para usos comerciales además de que puede ser más complejo de integrar en aplicaciones de la insdustria [5].\n",
    "\n",
    "##### 3. **Retext (Node.js)**\n",
    "- **Ventaja**: Retext es parte del colectivo unificado y permite la integración eficaz de múltiples herramientas y plugins. Su enfoque en plugins para realizar tareas de procesamiento de lenguaje natural lo hace muy flexible y fácil de ampliar para adaptarse a necesidades específicas sin tener que entender del todo los procesos y técnicas del NLP [5].\n",
    "- **Desventaja**: Dado que depende en gran medida de plugins para su funcionalidad, podría no ser tan robusto o completo como soluciones más integradas para personas que buscan otro tipo de soluciones [5]."
   ]
  },
  {
   "cell_type": "markdown",
   "metadata": {},
   "source": [
    "# Bibliografía\n",
    "\n",
    "[1] Bird, Steven, Ewan Klein, and Edward Loper. Natural language processing with Python: analyzing text with the natural language toolkit. \" O'Reilly Media, Inc.\", 2009.\n",
    "\n",
    "[2] “NLTK :: nltk.tokenize.regexp module.” Nltk.org, 2023. Online. Internet. 1 Feb. 2024. Available: https://www.nltk.org/api/nltk.tokenize.regexp.html#:~:text=A%20RegexpTokenizer%20splits%20a%20string,%3E%3E%3E%20from%20nltk.\n",
    "\n",
    "[3] spaCy. https://spacy.io/\n",
    "\n",
    "[4] Transformers. https://github.com/huggingface/transformers\n",
    "\n",
    "[5] Ingersoll, Grant. “5 open source tools for taming text.” Opensource.com, 2015. Online. Internet. 1 Feb. 2024. Available: https://opensource.com/business/15/7/five-open-source-nlp-tools"
   ]
  }
 ],
 "metadata": {
  "kernelspec": {
   "display_name": "PLN",
   "language": "python",
   "name": "python3"
  },
  "language_info": {
   "codemirror_mode": {
    "name": "ipython",
    "version": 3
   },
   "file_extension": ".py",
   "mimetype": "text/x-python",
   "name": "python",
   "nbconvert_exporter": "python",
   "pygments_lexer": "ipython3",
   "version": "3.11.5"
  }
 },
 "nbformat": 4,
 "nbformat_minor": 2
}
