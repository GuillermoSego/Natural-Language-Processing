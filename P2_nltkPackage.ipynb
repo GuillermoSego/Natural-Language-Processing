{
 "cells": [
  {
   "cell_type": "markdown",
   "metadata": {},
   "source": [
    "# Práctica 2: Aprendiendo NLTK\n",
    "Guillermo Segura Gómez\n",
    "\n",
    "El Procesamiento de Lenguaje Natural (PLN o NLP, por sus siglas en inglés) constituye una rama de la informática y la inteligencia artificial que se enfoca en la interacción entre las computadoras y el lenguaje humano. Esta disciplina abarca el estudio y desarrollo de algoritmos que permiten a las máquinas entender, interpretar y generar lenguaje humano de manera efectiva. \n",
    "\n",
    "El lenguaje humano es inherentemente complejo y dinámico, caracterizado por su constante evolución, su naturaleza generacional, contextual y la presencia de patrones complejos. Estas características representan desafíos significativos para su procesamiento computacional, lo que hace del PLN un campo fascinante y desafiante dentro de la investigación en inteligencia artificial.\n",
    "\n",
    "**NLTK (Natural Language Toolkit)** es una biblioteca de Python ampliamente reconocida y utilizada en el ámbito del PLN. Ofrece una diversidad de recursos como corpus textuales, léxicos y herramientas gramaticales, lo que la convierte en una herramienta esencial para quienes se inician en el procesamiento de lenguaje natural. A través de NLTK, los usuarios pueden acceder a una vasta colección de textos y datos lingüísticos, así como a funcionalidades específicas para el análisis lingüístico, lo que facilita la realización de tareas como la tokenización, el etiquetado gramatical, el análisis sintáctico, entre otros.\n",
    "\n",
    "Primero necesitamos importar la libreria **nltk**"
   ]
  },
  {
   "cell_type": "code",
   "execution_count": 1,
   "metadata": {},
   "outputs": [],
   "source": [
    "import nltk"
   ]
  },
  {
   "cell_type": "markdown",
   "metadata": {},
   "source": [
    "nltk posee una gran cantidad de herramientas a las que podemos acceder para procesar texto. Incluso ntlk ya contiene bastantes textos los cuales podemos utilizar para comenzar a procesar texto. "
   ]
  },
  {
   "cell_type": "code",
   "execution_count": 2,
   "metadata": {},
   "outputs": [
    {
     "name": "stdout",
     "output_type": "stream",
     "text": [
      "showing info https://raw.githubusercontent.com/nltk/nltk_data/gh-pages/index.xml\n",
      "showing info https://raw.githubusercontent.com/nltk/nltk_data/gh-pages/index.xml\n"
     ]
    },
    {
     "data": {
      "text/plain": [
       "True"
      ]
     },
     "execution_count": 2,
     "metadata": {},
     "output_type": "execute_result"
    }
   ],
   "source": [
    "nltk.download()"
   ]
  },
  {
   "cell_type": "code",
   "execution_count": 4,
   "metadata": {},
   "outputs": [
    {
     "name": "stdout",
     "output_type": "stream",
     "text": [
      "*** Introductory Examples for the NLTK Book ***\n",
      "Loading text1, ..., text9 and sent1, ..., sent9\n",
      "Type the name of the text or sentence to view it.\n",
      "Type: 'texts()' or 'sents()' to list the materials.\n",
      "text1: Moby Dick by Herman Melville 1851\n",
      "text2: Sense and Sensibility by Jane Austen 1811\n",
      "text3: The Book of Genesis\n",
      "text4: Inaugural Address Corpus\n",
      "text5: Chat Corpus\n",
      "text6: Monty Python and the Holy Grail\n",
      "text7: Wall Street Journal\n",
      "text8: Personals Corpus\n",
      "text9: The Man Who Was Thursday by G . K . Chesterton 1908\n"
     ]
    }
   ],
   "source": [
    "# Agrega tu ruta personalizada a la lista de rutas de búsqueda de NLTK\n",
    "nltk.data.path.append('/Users/guillermo_sego/anaconda3/nltk_data/')\n",
    "from nltk.book import *\n"
   ]
  },
  {
   "cell_type": "code",
   "execution_count": null,
   "metadata": {},
   "outputs": [],
   "source": []
  }
 ],
 "metadata": {
  "kernelspec": {
   "display_name": "PLN",
   "language": "python",
   "name": "python3"
  },
  "language_info": {
   "codemirror_mode": {
    "name": "ipython",
    "version": 3
   },
   "file_extension": ".py",
   "mimetype": "text/x-python",
   "name": "python",
   "nbconvert_exporter": "python",
   "pygments_lexer": "ipython3",
   "version": "3.11.5"
  }
 },
 "nbformat": 4,
 "nbformat_minor": 2
}
